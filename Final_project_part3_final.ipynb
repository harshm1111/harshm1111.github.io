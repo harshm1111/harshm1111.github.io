{
 "cells": [
  {
   "cell_type": "code",
   "execution_count": 32,
   "metadata": {},
   "outputs": [],
   "source": [
    "import pandas as pd\n",
    "import numpy as np\n",
    "import requests\n",
    "import io\n",
    "import bqplot\n",
    "import ipywidgets\n",
    "import matplotlib.pyplot as plt\n",
    "import seaborn as sns"
   ]
  },
  {
   "cell_type": "code",
   "execution_count": 2,
   "metadata": {},
   "outputs": [],
   "source": [
    "data = pd.read_csv(\"police-arrests-upload_20181105.csv\", low_memory = False)"
   ]
  },
  {
   "cell_type": "code",
   "execution_count": 3,
   "metadata": {
    "scrolled": true
   },
   "outputs": [
    {
     "data": {
      "text/html": [
       "<div>\n",
       "<style scoped>\n",
       "    .dataframe tbody tr th:only-of-type {\n",
       "        vertical-align: middle;\n",
       "    }\n",
       "\n",
       "    .dataframe tbody tr th {\n",
       "        vertical-align: top;\n",
       "    }\n",
       "\n",
       "    .dataframe thead th {\n",
       "        text-align: right;\n",
       "    }\n",
       "</style>\n",
       "<table border=\"1\" class=\"dataframe\">\n",
       "  <thead>\n",
       "    <tr style=\"text-align: right;\">\n",
       "      <th></th>\n",
       "      <th>arrest_code</th>\n",
       "      <th>incident_number</th>\n",
       "      <th>date_of_arrest</th>\n",
       "      <th>year_of_arrest</th>\n",
       "      <th>month_of_arrest</th>\n",
       "      <th>arrest_type_description</th>\n",
       "      <th>crime_code</th>\n",
       "      <th>crime_code_description</th>\n",
       "      <th>crime_category_code</th>\n",
       "      <th>crime_category_description</th>\n",
       "      <th>...</th>\n",
       "      <th>arrestee_sex</th>\n",
       "      <th>arrestee_race</th>\n",
       "      <th>arrestee_employment_description</th>\n",
       "      <th>arrestee_residency_description</th>\n",
       "      <th>arrestee_home_city</th>\n",
       "      <th>arrestee_home_state</th>\n",
       "      <th>arrestee_home_zip</th>\n",
       "      <th>arrest_resolution</th>\n",
       "      <th>count</th>\n",
       "      <th>arrestee_home_city_mapped</th>\n",
       "    </tr>\n",
       "  </thead>\n",
       "  <tbody>\n",
       "    <tr>\n",
       "      <th>0</th>\n",
       "      <td>A00-00003</td>\n",
       "      <td>T00-00003</td>\n",
       "      <td>01/04/2000</td>\n",
       "      <td>2000</td>\n",
       "      <td>1</td>\n",
       "      <td>SUMMONED</td>\n",
       "      <td>2461</td>\n",
       "      <td>OPERATE UNINSURED MOTOR VEHICLE</td>\n",
       "      <td>C28</td>\n",
       "      <td>Traffic Offenses</td>\n",
       "      <td>...</td>\n",
       "      <td>MALE</td>\n",
       "      <td>BLACK</td>\n",
       "      <td>UNKNOWN</td>\n",
       "      <td>RESIDENT</td>\n",
       "      <td>CHAMPAIGN</td>\n",
       "      <td>IL</td>\n",
       "      <td>61820</td>\n",
       "      <td>BONDED OUT</td>\n",
       "      <td>1</td>\n",
       "      <td>CHAMPAIGN,IL,61820</td>\n",
       "    </tr>\n",
       "    <tr>\n",
       "      <th>1</th>\n",
       "      <td>A00-00004</td>\n",
       "      <td>T00-00004</td>\n",
       "      <td>01/04/2000</td>\n",
       "      <td>2000</td>\n",
       "      <td>1</td>\n",
       "      <td>SUMMONED</td>\n",
       "      <td>6601</td>\n",
       "      <td>SPEEDING (RADAR)</td>\n",
       "      <td>C28</td>\n",
       "      <td>Traffic Offenses</td>\n",
       "      <td>...</td>\n",
       "      <td>FEMALE</td>\n",
       "      <td>WHITE</td>\n",
       "      <td>EMPLOYED</td>\n",
       "      <td>NON-RESIDENT</td>\n",
       "      <td>POTOMAC</td>\n",
       "      <td>IL</td>\n",
       "      <td>61865</td>\n",
       "      <td>BONDED OUT</td>\n",
       "      <td>1</td>\n",
       "      <td>POTOMAC,IL,61865</td>\n",
       "    </tr>\n",
       "    <tr>\n",
       "      <th>2</th>\n",
       "      <td>A00-00006</td>\n",
       "      <td>T00-00006</td>\n",
       "      <td>01/04/2000</td>\n",
       "      <td>2000</td>\n",
       "      <td>1</td>\n",
       "      <td>SUMMONED</td>\n",
       "      <td>6601</td>\n",
       "      <td>SPEEDING (RADAR)</td>\n",
       "      <td>C28</td>\n",
       "      <td>Traffic Offenses</td>\n",
       "      <td>...</td>\n",
       "      <td>FEMALE</td>\n",
       "      <td>WHITE</td>\n",
       "      <td>UNKNOWN</td>\n",
       "      <td>RESIDENT</td>\n",
       "      <td>NaN</td>\n",
       "      <td>NaN</td>\n",
       "      <td>00000</td>\n",
       "      <td>BONDED OUT</td>\n",
       "      <td>1</td>\n",
       "      <td>,,00000</td>\n",
       "    </tr>\n",
       "    <tr>\n",
       "      <th>3</th>\n",
       "      <td>A00-00007</td>\n",
       "      <td>T00-00007</td>\n",
       "      <td>01/04/2000</td>\n",
       "      <td>2000</td>\n",
       "      <td>1</td>\n",
       "      <td>SUMMONED</td>\n",
       "      <td>6601</td>\n",
       "      <td>SPEEDING (RADAR)</td>\n",
       "      <td>C28</td>\n",
       "      <td>Traffic Offenses</td>\n",
       "      <td>...</td>\n",
       "      <td>FEMALE</td>\n",
       "      <td>WHITE</td>\n",
       "      <td>UNKNOWN</td>\n",
       "      <td>NON-RESIDENT</td>\n",
       "      <td>CHAMPAIGN</td>\n",
       "      <td>IL</td>\n",
       "      <td>61820</td>\n",
       "      <td>BONDED OUT</td>\n",
       "      <td>1</td>\n",
       "      <td>CHAMPAIGN,IL,61820</td>\n",
       "    </tr>\n",
       "    <tr>\n",
       "      <th>4</th>\n",
       "      <td>A00-00008</td>\n",
       "      <td>T00-00008</td>\n",
       "      <td>01/04/2000</td>\n",
       "      <td>2000</td>\n",
       "      <td>1</td>\n",
       "      <td>SUMMONED</td>\n",
       "      <td>2461</td>\n",
       "      <td>OPERATE UNINSURED MOTOR VEHICLE</td>\n",
       "      <td>C28</td>\n",
       "      <td>Traffic Offenses</td>\n",
       "      <td>...</td>\n",
       "      <td>MALE</td>\n",
       "      <td>WHITE</td>\n",
       "      <td>UNKNOWN</td>\n",
       "      <td>NON-RESIDENT</td>\n",
       "      <td>CHAMPAIGN</td>\n",
       "      <td>IL</td>\n",
       "      <td>61820</td>\n",
       "      <td>BONDED OUT</td>\n",
       "      <td>1</td>\n",
       "      <td>CHAMPAIGN,IL,61820</td>\n",
       "    </tr>\n",
       "  </tbody>\n",
       "</table>\n",
       "<p>5 rows × 26 columns</p>\n",
       "</div>"
      ],
      "text/plain": [
       "  arrest_code incident_number date_of_arrest  year_of_arrest  month_of_arrest  \\\n",
       "0   A00-00003       T00-00003     01/04/2000            2000                1   \n",
       "1   A00-00004       T00-00004     01/04/2000            2000                1   \n",
       "2   A00-00006       T00-00006     01/04/2000            2000                1   \n",
       "3   A00-00007       T00-00007     01/04/2000            2000                1   \n",
       "4   A00-00008       T00-00008     01/04/2000            2000                1   \n",
       "\n",
       "  arrest_type_description  crime_code           crime_code_description  \\\n",
       "0                SUMMONED        2461  OPERATE UNINSURED MOTOR VEHICLE   \n",
       "1                SUMMONED        6601                 SPEEDING (RADAR)   \n",
       "2                SUMMONED        6601                 SPEEDING (RADAR)   \n",
       "3                SUMMONED        6601                 SPEEDING (RADAR)   \n",
       "4                SUMMONED        2461  OPERATE UNINSURED MOTOR VEHICLE   \n",
       "\n",
       "  crime_category_code crime_category_description            ...             \\\n",
       "0                 C28           Traffic Offenses            ...              \n",
       "1                 C28           Traffic Offenses            ...              \n",
       "2                 C28           Traffic Offenses            ...              \n",
       "3                 C28           Traffic Offenses            ...              \n",
       "4                 C28           Traffic Offenses            ...              \n",
       "\n",
       "  arrestee_sex arrestee_race arrestee_employment_description  \\\n",
       "0         MALE         BLACK                         UNKNOWN   \n",
       "1       FEMALE         WHITE                        EMPLOYED   \n",
       "2       FEMALE         WHITE                         UNKNOWN   \n",
       "3       FEMALE         WHITE                         UNKNOWN   \n",
       "4         MALE         WHITE                         UNKNOWN   \n",
       "\n",
       "   arrestee_residency_description arrestee_home_city  arrestee_home_state  \\\n",
       "0                        RESIDENT          CHAMPAIGN                   IL   \n",
       "1                    NON-RESIDENT            POTOMAC                   IL   \n",
       "2                        RESIDENT                NaN                  NaN   \n",
       "3                    NON-RESIDENT          CHAMPAIGN                   IL   \n",
       "4                    NON-RESIDENT          CHAMPAIGN                   IL   \n",
       "\n",
       "  arrestee_home_zip arrest_resolution count arrestee_home_city_mapped  \n",
       "0             61820        BONDED OUT     1        CHAMPAIGN,IL,61820  \n",
       "1             61865        BONDED OUT     1          POTOMAC,IL,61865  \n",
       "2             00000        BONDED OUT     1                   ,,00000  \n",
       "3             61820        BONDED OUT     1        CHAMPAIGN,IL,61820  \n",
       "4             61820        BONDED OUT     1        CHAMPAIGN,IL,61820  \n",
       "\n",
       "[5 rows x 26 columns]"
      ]
     },
     "execution_count": 3,
     "metadata": {},
     "output_type": "execute_result"
    }
   ],
   "source": [
    "data.head()"
   ]
  },
  {
   "cell_type": "code",
   "execution_count": 4,
   "metadata": {},
   "outputs": [
    {
     "data": {
      "text/plain": [
       "(200671, 26)"
      ]
     },
     "execution_count": 4,
     "metadata": {},
     "output_type": "execute_result"
    }
   ],
   "source": [
    "data.shape"
   ]
  },
  {
   "cell_type": "code",
   "execution_count": 5,
   "metadata": {},
   "outputs": [
    {
     "data": {
      "text/plain": [
       "Index(['arrest_code', 'incident_number', 'date_of_arrest', 'year_of_arrest',\n",
       "       'month_of_arrest', 'arrest_type_description', 'crime_code',\n",
       "       'crime_code_description', 'crime_category_code',\n",
       "       'crime_category_description', 'conspiracy_code', 'statute', 'violation',\n",
       "       'disposition_code', 'disposition_description', 'age_at_arrest',\n",
       "       'arrestee_sex', 'arrestee_race', 'arrestee_employment_description',\n",
       "       'arrestee_residency_description', 'arrestee_home_city',\n",
       "       'arrestee_home_state', 'arrestee_home_zip', 'arrest_resolution',\n",
       "       'count', 'arrestee_home_city_mapped'],\n",
       "      dtype='object')"
      ]
     },
     "execution_count": 5,
     "metadata": {},
     "output_type": "execute_result"
    }
   ],
   "source": [
    "data.columns"
   ]
  },
  {
   "cell_type": "code",
   "execution_count": 33,
   "metadata": {},
   "outputs": [
    {
     "data": {
      "image/png": "[encoded data removed]",
      "text/plain": [
       "<Figure size 432x288 with 1 Axes>"
      ]
     },
     "metadata": {
      "needs_background": "light"
     },
     "output_type": "display_data"
    }
   ],
   "source": [
    "months = ['Jan', 'Feb', 'Mar', 'Apr', 'May', 'Jun', 'Jul', 'Aug', 'Sep', 'Oct', 'Nov', 'Dec']\n",
    "data.groupby('month_of_arrest')['arrest_code'].count().plot(marker='o')\n",
    "plt.xticks(np.arange(12), months)\n",
    "plt.xlabel('Month')\n",
    "plt.ylabel('No of Crimes')\n",
    "plt.title('Monthly crime trend')\n",
    "plt.show()"
   ]
  },
  {
   "cell_type": "code",
   "execution_count": 6,
   "metadata": {},
   "outputs": [
    {
     "data": {
      "text/plain": [
       "<BarContainer object of 12 artists>"
      ]
     },
     "execution_count": 6,
     "metadata": {},
     "output_type": "execute_result"
    },
    {
     "data": {
      "image/png": "[encoded data removed]",
      "text/plain": [
       "<Figure size 432x288 with 1 Axes>"
      ]
     },
     "metadata": {
      "needs_background": "light"
     },
     "output_type": "display_data"
    }
   ],
   "source": [
    "month_list = data.month_of_arrest\n",
    "# count arrest count in different years\n",
    "month_count_map = {}\n",
    "for month in month_list:\n",
    "    month_count_map[month] = month_count_map.get(month, 0) + 1\n",
    "\n",
    "month_list = []\n",
    "count_list = []\n",
    "for month, count in month_count_map.items():\n",
    "    month_list.append(month)\n",
    "    count_list.append(count)\n",
    "    \n",
    "\n",
    "plt.xlabel('Month of Arrest')\n",
    "plt.ylabel('No of Arrests')\n",
    "plt.bar(month_list, count_list)"
   ]
  },
  {
   "cell_type": "markdown",
   "metadata": {},
   "source": [
    "# PART 2"
   ]
  },
  {
   "cell_type": "markdown",
   "metadata": {},
   "source": [
    "# Top 10 crimes comitted"
   ]
  },
  {
   "cell_type": "code",
   "execution_count": 7,
   "metadata": {},
   "outputs": [
    {
     "data": {
      "image/png": "[encoded data removed]",
      "text/plain": [
       "<Figure size 432x288 with 1 Axes>"
      ]
     },
     "metadata": {
      "needs_background": "light"
     },
     "output_type": "display_data"
    }
   ],
   "source": [
    "sns.countplot(x='crime_code_description', data = data, order= data['crime_code_description'].value_counts().iloc[:15].index).set_title('Crime Type Distribution');\n",
    " \n",
    "plt.xlabel(\"CRIME CODE DESCRIPTION\") \n",
    "plt.xticks(rotation=-95)\n",
    "plt.show()"
   ]
  },
  {
   "cell_type": "markdown",
   "metadata": {},
   "source": [
    "## Distribution by Arrestee city\n"
   ]
  },
  {
   "cell_type": "code",
   "execution_count": 8,
   "metadata": {},
   "outputs": [
    {
     "data": {
      "text/html": [
       "<div>\n",
       "<style scoped>\n",
       "    .dataframe tbody tr th:only-of-type {\n",
       "        vertical-align: middle;\n",
       "    }\n",
       "\n",
       "    .dataframe tbody tr th {\n",
       "        vertical-align: top;\n",
       "    }\n",
       "\n",
       "    .dataframe thead th {\n",
       "        text-align: right;\n",
       "    }\n",
       "</style>\n",
       "<table border=\"1\" class=\"dataframe\">\n",
       "  <thead>\n",
       "    <tr style=\"text-align: right;\">\n",
       "      <th></th>\n",
       "      <th>count</th>\n",
       "      <th>mean</th>\n",
       "      <th>std</th>\n",
       "      <th>min</th>\n",
       "      <th>25%</th>\n",
       "      <th>50%</th>\n",
       "      <th>75%</th>\n",
       "      <th>max</th>\n",
       "    </tr>\n",
       "    <tr>\n",
       "      <th>arrestee_home_city</th>\n",
       "      <th></th>\n",
       "      <th></th>\n",
       "      <th></th>\n",
       "      <th></th>\n",
       "      <th></th>\n",
       "      <th></th>\n",
       "      <th></th>\n",
       "      <th></th>\n",
       "    </tr>\n",
       "  </thead>\n",
       "  <tbody>\n",
       "    <tr>\n",
       "      <th>11/90  URBANA</th>\n",
       "      <td>1.0</td>\n",
       "      <td>1990.000000</td>\n",
       "      <td>NaN</td>\n",
       "      <td>1990.0</td>\n",
       "      <td>1990.00</td>\n",
       "      <td>1990.0</td>\n",
       "      <td>1990.00</td>\n",
       "      <td>1990.0</td>\n",
       "    </tr>\n",
       "    <tr>\n",
       "      <th>CHAMPAIGN</th>\n",
       "      <td>1.0</td>\n",
       "      <td>1991.000000</td>\n",
       "      <td>NaN</td>\n",
       "      <td>1991.0</td>\n",
       "      <td>1991.00</td>\n",
       "      <td>1991.0</td>\n",
       "      <td>1991.00</td>\n",
       "      <td>1991.0</td>\n",
       "    </tr>\n",
       "    <tr>\n",
       "      <th>OAK PARK</th>\n",
       "      <td>1.0</td>\n",
       "      <td>1989.000000</td>\n",
       "      <td>NaN</td>\n",
       "      <td>1989.0</td>\n",
       "      <td>1989.00</td>\n",
       "      <td>1989.0</td>\n",
       "      <td>1989.00</td>\n",
       "      <td>1989.0</td>\n",
       "    </tr>\n",
       "    <tr>\n",
       "      <th>URBANA</th>\n",
       "      <td>6.0</td>\n",
       "      <td>2009.833333</td>\n",
       "      <td>4.355074</td>\n",
       "      <td>2005.0</td>\n",
       "      <td>2006.25</td>\n",
       "      <td>2009.5</td>\n",
       "      <td>2013.50</td>\n",
       "      <td>2015.0</td>\n",
       "    </tr>\n",
       "    <tr>\n",
       "      <th>#102 CHAMPAIGN</th>\n",
       "      <td>2.0</td>\n",
       "      <td>2008.000000</td>\n",
       "      <td>0.000000</td>\n",
       "      <td>2008.0</td>\n",
       "      <td>2008.00</td>\n",
       "      <td>2008.0</td>\n",
       "      <td>2008.00</td>\n",
       "      <td>2008.0</td>\n",
       "    </tr>\n",
       "    <tr>\n",
       "      <th>#11 URBANA 6-89</th>\n",
       "      <td>1.0</td>\n",
       "      <td>1989.000000</td>\n",
       "      <td>NaN</td>\n",
       "      <td>1989.0</td>\n",
       "      <td>1989.00</td>\n",
       "      <td>1989.0</td>\n",
       "      <td>1989.00</td>\n",
       "      <td>1989.0</td>\n",
       "    </tr>\n",
       "    <tr>\n",
       "      <th>#1133, URBANA</th>\n",
       "      <td>1.0</td>\n",
       "      <td>1998.000000</td>\n",
       "      <td>NaN</td>\n",
       "      <td>1998.0</td>\n",
       "      <td>1998.00</td>\n",
       "      <td>1998.0</td>\n",
       "      <td>1998.00</td>\n",
       "      <td>1998.0</td>\n",
       "    </tr>\n",
       "    <tr>\n",
       "      <th>#2016,TEMPE</th>\n",
       "      <td>1.0</td>\n",
       "      <td>2007.000000</td>\n",
       "      <td>NaN</td>\n",
       "      <td>2007.0</td>\n",
       "      <td>2007.00</td>\n",
       "      <td>2007.0</td>\n",
       "      <td>2007.00</td>\n",
       "      <td>2007.0</td>\n",
       "    </tr>\n",
       "    <tr>\n",
       "      <th>#203  URBANA</th>\n",
       "      <td>1.0</td>\n",
       "      <td>2013.000000</td>\n",
       "      <td>NaN</td>\n",
       "      <td>2013.0</td>\n",
       "      <td>2013.00</td>\n",
       "      <td>2013.0</td>\n",
       "      <td>2013.00</td>\n",
       "      <td>2013.0</td>\n",
       "    </tr>\n",
       "    <tr>\n",
       "      <th>#311, URBANA</th>\n",
       "      <td>1.0</td>\n",
       "      <td>1998.000000</td>\n",
       "      <td>NaN</td>\n",
       "      <td>1998.0</td>\n",
       "      <td>1998.00</td>\n",
       "      <td>1998.0</td>\n",
       "      <td>1998.00</td>\n",
       "      <td>1998.0</td>\n",
       "    </tr>\n",
       "    <tr>\n",
       "      <th>#6  CARBONDALE</th>\n",
       "      <td>1.0</td>\n",
       "      <td>2005.000000</td>\n",
       "      <td>NaN</td>\n",
       "      <td>2005.0</td>\n",
       "      <td>2005.00</td>\n",
       "      <td>2005.0</td>\n",
       "      <td>2005.00</td>\n",
       "      <td>2005.0</td>\n",
       "    </tr>\n",
       "    <tr>\n",
       "      <th>#8 BISMARK</th>\n",
       "      <td>1.0</td>\n",
       "      <td>2004.000000</td>\n",
       "      <td>NaN</td>\n",
       "      <td>2004.0</td>\n",
       "      <td>2004.00</td>\n",
       "      <td>2004.0</td>\n",
       "      <td>2004.00</td>\n",
       "      <td>2004.0</td>\n",
       "    </tr>\n",
       "    <tr>\n",
       "      <th>.</th>\n",
       "      <td>30.0</td>\n",
       "      <td>1999.633333</td>\n",
       "      <td>6.408418</td>\n",
       "      <td>1989.0</td>\n",
       "      <td>1995.25</td>\n",
       "      <td>1997.0</td>\n",
       "      <td>2004.00</td>\n",
       "      <td>2014.0</td>\n",
       "    </tr>\n",
       "    <tr>\n",
       "      <th>01-90</th>\n",
       "      <td>2.0</td>\n",
       "      <td>1989.500000</td>\n",
       "      <td>0.707107</td>\n",
       "      <td>1989.0</td>\n",
       "      <td>1989.25</td>\n",
       "      <td>1989.5</td>\n",
       "      <td>1989.75</td>\n",
       "      <td>1990.0</td>\n",
       "    </tr>\n",
       "    <tr>\n",
       "      <th>02-90  URBANA</th>\n",
       "      <td>1.0</td>\n",
       "      <td>1990.000000</td>\n",
       "      <td>NaN</td>\n",
       "      <td>1990.0</td>\n",
       "      <td>1990.00</td>\n",
       "      <td>1990.0</td>\n",
       "      <td>1990.00</td>\n",
       "      <td>1990.0</td>\n",
       "    </tr>\n",
       "    <tr>\n",
       "      <th>03/90 MILWAUKEE</th>\n",
       "      <td>2.0</td>\n",
       "      <td>1989.500000</td>\n",
       "      <td>0.707107</td>\n",
       "      <td>1989.0</td>\n",
       "      <td>1989.25</td>\n",
       "      <td>1989.5</td>\n",
       "      <td>1989.75</td>\n",
       "      <td>1990.0</td>\n",
       "    </tr>\n",
       "    <tr>\n",
       "      <th>1-C  URBANA</th>\n",
       "      <td>1.0</td>\n",
       "      <td>1999.000000</td>\n",
       "      <td>NaN</td>\n",
       "      <td>1999.0</td>\n",
       "      <td>1999.00</td>\n",
       "      <td>1999.0</td>\n",
       "      <td>1999.00</td>\n",
       "      <td>1999.0</td>\n",
       "    </tr>\n",
       "    <tr>\n",
       "      <th>1/90  RANTOUL</th>\n",
       "      <td>2.0</td>\n",
       "      <td>1990.000000</td>\n",
       "      <td>0.000000</td>\n",
       "      <td>1990.0</td>\n",
       "      <td>1990.00</td>\n",
       "      <td>1990.0</td>\n",
       "      <td>1990.00</td>\n",
       "      <td>1990.0</td>\n",
       "    </tr>\n",
       "    <tr>\n",
       "      <th>1/90  URBANA</th>\n",
       "      <td>1.0</td>\n",
       "      <td>1990.000000</td>\n",
       "      <td>NaN</td>\n",
       "      <td>1990.0</td>\n",
       "      <td>1990.00</td>\n",
       "      <td>1990.0</td>\n",
       "      <td>1990.00</td>\n",
       "      <td>1990.0</td>\n",
       "    </tr>\n",
       "    <tr>\n",
       "      <th>1/90 CHAMPAIGN</th>\n",
       "      <td>1.0</td>\n",
       "      <td>1990.000000</td>\n",
       "      <td>NaN</td>\n",
       "      <td>1990.0</td>\n",
       "      <td>1990.00</td>\n",
       "      <td>1990.0</td>\n",
       "      <td>1990.00</td>\n",
       "      <td>1990.0</td>\n",
       "    </tr>\n",
       "    <tr>\n",
       "      <th>1/91 CHAMPAIGN</th>\n",
       "      <td>5.0</td>\n",
       "      <td>1991.000000</td>\n",
       "      <td>0.000000</td>\n",
       "      <td>1991.0</td>\n",
       "      <td>1991.00</td>\n",
       "      <td>1991.0</td>\n",
       "      <td>1991.00</td>\n",
       "      <td>1991.0</td>\n",
       "    </tr>\n",
       "    <tr>\n",
       "      <th>1/92 CHAMPAIGN</th>\n",
       "      <td>1.0</td>\n",
       "      <td>1992.000000</td>\n",
       "      <td>NaN</td>\n",
       "      <td>1992.0</td>\n",
       "      <td>1992.00</td>\n",
       "      <td>1992.0</td>\n",
       "      <td>1992.00</td>\n",
       "      <td>1992.0</td>\n",
       "    </tr>\n",
       "    <tr>\n",
       "      <th>10/90 CHICAGO</th>\n",
       "      <td>1.0</td>\n",
       "      <td>1990.000000</td>\n",
       "      <td>NaN</td>\n",
       "      <td>1990.0</td>\n",
       "      <td>1990.00</td>\n",
       "      <td>1990.0</td>\n",
       "      <td>1990.00</td>\n",
       "      <td>1990.0</td>\n",
       "    </tr>\n",
       "    <tr>\n",
       "      <th>10/90 URBANA</th>\n",
       "      <td>1.0</td>\n",
       "      <td>1989.000000</td>\n",
       "      <td>NaN</td>\n",
       "      <td>1989.0</td>\n",
       "      <td>1989.00</td>\n",
       "      <td>1989.0</td>\n",
       "      <td>1989.00</td>\n",
       "      <td>1989.0</td>\n",
       "    </tr>\n",
       "    <tr>\n",
       "      <th>10/91 CHAMPAIGN</th>\n",
       "      <td>1.0</td>\n",
       "      <td>1991.000000</td>\n",
       "      <td>NaN</td>\n",
       "      <td>1991.0</td>\n",
       "      <td>1991.00</td>\n",
       "      <td>1991.0</td>\n",
       "      <td>1991.00</td>\n",
       "      <td>1991.0</td>\n",
       "    </tr>\n",
       "    <tr>\n",
       "      <th>10/91 URBANA</th>\n",
       "      <td>2.0</td>\n",
       "      <td>1990.000000</td>\n",
       "      <td>0.000000</td>\n",
       "      <td>1990.0</td>\n",
       "      <td>1990.00</td>\n",
       "      <td>1990.0</td>\n",
       "      <td>1990.00</td>\n",
       "      <td>1990.0</td>\n",
       "    </tr>\n",
       "    <tr>\n",
       "      <th>10/92 HINSDALE</th>\n",
       "      <td>1.0</td>\n",
       "      <td>1992.000000</td>\n",
       "      <td>NaN</td>\n",
       "      <td>1992.0</td>\n",
       "      <td>1992.00</td>\n",
       "      <td>1992.0</td>\n",
       "      <td>1992.00</td>\n",
       "      <td>1992.0</td>\n",
       "    </tr>\n",
       "    <tr>\n",
       "      <th>10/92 URBANA</th>\n",
       "      <td>1.0</td>\n",
       "      <td>1992.000000</td>\n",
       "      <td>NaN</td>\n",
       "      <td>1992.0</td>\n",
       "      <td>1992.00</td>\n",
       "      <td>1992.0</td>\n",
       "      <td>1992.00</td>\n",
       "      <td>1992.0</td>\n",
       "    </tr>\n",
       "    <tr>\n",
       "      <th>10/94 CHAMPAIGN</th>\n",
       "      <td>1.0</td>\n",
       "      <td>1994.000000</td>\n",
       "      <td>NaN</td>\n",
       "      <td>1994.0</td>\n",
       "      <td>1994.00</td>\n",
       "      <td>1994.0</td>\n",
       "      <td>1994.00</td>\n",
       "      <td>1994.0</td>\n",
       "    </tr>\n",
       "    <tr>\n",
       "      <th>10/94 URBANA</th>\n",
       "      <td>3.0</td>\n",
       "      <td>1994.000000</td>\n",
       "      <td>0.000000</td>\n",
       "      <td>1994.0</td>\n",
       "      <td>1994.00</td>\n",
       "      <td>1994.0</td>\n",
       "      <td>1994.00</td>\n",
       "      <td>1994.0</td>\n",
       "    </tr>\n",
       "    <tr>\n",
       "      <th>...</th>\n",
       "      <td>...</td>\n",
       "      <td>...</td>\n",
       "      <td>...</td>\n",
       "      <td>...</td>\n",
       "      <td>...</td>\n",
       "      <td>...</td>\n",
       "      <td>...</td>\n",
       "      <td>...</td>\n",
       "    </tr>\n",
       "    <tr>\n",
       "      <th>WOODBURY</th>\n",
       "      <td>1.0</td>\n",
       "      <td>1988.000000</td>\n",
       "      <td>NaN</td>\n",
       "      <td>1988.0</td>\n",
       "      <td>1988.00</td>\n",
       "      <td>1988.0</td>\n",
       "      <td>1988.00</td>\n",
       "      <td>1988.0</td>\n",
       "    </tr>\n",
       "    <tr>\n",
       "      <th>WOODDALE</th>\n",
       "      <td>2.0</td>\n",
       "      <td>2004.000000</td>\n",
       "      <td>8.485281</td>\n",
       "      <td>1998.0</td>\n",
       "      <td>2001.00</td>\n",
       "      <td>2004.0</td>\n",
       "      <td>2007.00</td>\n",
       "      <td>2010.0</td>\n",
       "    </tr>\n",
       "    <tr>\n",
       "      <th>WOODHULL</th>\n",
       "      <td>2.0</td>\n",
       "      <td>2000.500000</td>\n",
       "      <td>10.606602</td>\n",
       "      <td>1993.0</td>\n",
       "      <td>1996.75</td>\n",
       "      <td>2000.5</td>\n",
       "      <td>2004.25</td>\n",
       "      <td>2008.0</td>\n",
       "    </tr>\n",
       "    <tr>\n",
       "      <th>WOODLAWN</th>\n",
       "      <td>2.0</td>\n",
       "      <td>2010.000000</td>\n",
       "      <td>9.899495</td>\n",
       "      <td>2003.0</td>\n",
       "      <td>2006.50</td>\n",
       "      <td>2010.0</td>\n",
       "      <td>2013.50</td>\n",
       "      <td>2017.0</td>\n",
       "    </tr>\n",
       "    <tr>\n",
       "      <th>WOODRIDGE</th>\n",
       "      <td>14.0</td>\n",
       "      <td>2005.285714</td>\n",
       "      <td>10.010983</td>\n",
       "      <td>1989.0</td>\n",
       "      <td>1996.25</td>\n",
       "      <td>2007.5</td>\n",
       "      <td>2012.00</td>\n",
       "      <td>2016.0</td>\n",
       "    </tr>\n",
       "    <tr>\n",
       "      <th>WOODRIVER</th>\n",
       "      <td>1.0</td>\n",
       "      <td>1998.000000</td>\n",
       "      <td>NaN</td>\n",
       "      <td>1998.0</td>\n",
       "      <td>1998.00</td>\n",
       "      <td>1998.0</td>\n",
       "      <td>1998.00</td>\n",
       "      <td>1998.0</td>\n",
       "    </tr>\n",
       "    <tr>\n",
       "      <th>WOODSIDE</th>\n",
       "      <td>1.0</td>\n",
       "      <td>2006.000000</td>\n",
       "      <td>NaN</td>\n",
       "      <td>2006.0</td>\n",
       "      <td>2006.00</td>\n",
       "      <td>2006.0</td>\n",
       "      <td>2006.00</td>\n",
       "      <td>2006.0</td>\n",
       "    </tr>\n",
       "    <tr>\n",
       "      <th>WOODSTOCK</th>\n",
       "      <td>11.0</td>\n",
       "      <td>2004.545455</td>\n",
       "      <td>7.448002</td>\n",
       "      <td>1989.0</td>\n",
       "      <td>2001.00</td>\n",
       "      <td>2002.0</td>\n",
       "      <td>2009.00</td>\n",
       "      <td>2018.0</td>\n",
       "    </tr>\n",
       "    <tr>\n",
       "      <th>WORCESTER</th>\n",
       "      <td>2.0</td>\n",
       "      <td>2001.500000</td>\n",
       "      <td>16.263456</td>\n",
       "      <td>1990.0</td>\n",
       "      <td>1995.75</td>\n",
       "      <td>2001.5</td>\n",
       "      <td>2007.25</td>\n",
       "      <td>2013.0</td>\n",
       "    </tr>\n",
       "    <tr>\n",
       "      <th>WORDEN</th>\n",
       "      <td>1.0</td>\n",
       "      <td>1995.000000</td>\n",
       "      <td>NaN</td>\n",
       "      <td>1995.0</td>\n",
       "      <td>1995.00</td>\n",
       "      <td>1995.0</td>\n",
       "      <td>1995.00</td>\n",
       "      <td>1995.0</td>\n",
       "    </tr>\n",
       "    <tr>\n",
       "      <th>WORTH</th>\n",
       "      <td>7.0</td>\n",
       "      <td>2008.714286</td>\n",
       "      <td>9.411239</td>\n",
       "      <td>1988.0</td>\n",
       "      <td>2009.50</td>\n",
       "      <td>2011.0</td>\n",
       "      <td>2014.00</td>\n",
       "      <td>2015.0</td>\n",
       "    </tr>\n",
       "    <tr>\n",
       "      <th>WORTHINGTON</th>\n",
       "      <td>6.0</td>\n",
       "      <td>1999.666667</td>\n",
       "      <td>6.860515</td>\n",
       "      <td>1993.0</td>\n",
       "      <td>1993.50</td>\n",
       "      <td>1999.5</td>\n",
       "      <td>2004.00</td>\n",
       "      <td>2009.0</td>\n",
       "    </tr>\n",
       "    <tr>\n",
       "      <th>WRIGHT CITY</th>\n",
       "      <td>2.0</td>\n",
       "      <td>1988.500000</td>\n",
       "      <td>0.707107</td>\n",
       "      <td>1988.0</td>\n",
       "      <td>1988.25</td>\n",
       "      <td>1988.5</td>\n",
       "      <td>1988.75</td>\n",
       "      <td>1989.0</td>\n",
       "    </tr>\n",
       "    <tr>\n",
       "      <th>WYNNE</th>\n",
       "      <td>1.0</td>\n",
       "      <td>1989.000000</td>\n",
       "      <td>NaN</td>\n",
       "      <td>1989.0</td>\n",
       "      <td>1989.00</td>\n",
       "      <td>1989.0</td>\n",
       "      <td>1989.00</td>\n",
       "      <td>1989.0</td>\n",
       "    </tr>\n",
       "    <tr>\n",
       "      <th>WYOMING</th>\n",
       "      <td>3.0</td>\n",
       "      <td>2008.666667</td>\n",
       "      <td>2.081666</td>\n",
       "      <td>2007.0</td>\n",
       "      <td>2007.50</td>\n",
       "      <td>2008.0</td>\n",
       "      <td>2009.50</td>\n",
       "      <td>2011.0</td>\n",
       "    </tr>\n",
       "    <tr>\n",
       "      <th>YALE</th>\n",
       "      <td>2.0</td>\n",
       "      <td>2000.000000</td>\n",
       "      <td>15.556349</td>\n",
       "      <td>1989.0</td>\n",
       "      <td>1994.50</td>\n",
       "      <td>2000.0</td>\n",
       "      <td>2005.50</td>\n",
       "      <td>2011.0</td>\n",
       "    </tr>\n",
       "    <tr>\n",
       "      <th>YAPHANK</th>\n",
       "      <td>1.0</td>\n",
       "      <td>1994.000000</td>\n",
       "      <td>NaN</td>\n",
       "      <td>1994.0</td>\n",
       "      <td>1994.00</td>\n",
       "      <td>1994.0</td>\n",
       "      <td>1994.00</td>\n",
       "      <td>1994.0</td>\n",
       "    </tr>\n",
       "    <tr>\n",
       "      <th>YELM</th>\n",
       "      <td>1.0</td>\n",
       "      <td>2008.000000</td>\n",
       "      <td>NaN</td>\n",
       "      <td>2008.0</td>\n",
       "      <td>2008.00</td>\n",
       "      <td>2008.0</td>\n",
       "      <td>2008.00</td>\n",
       "      <td>2008.0</td>\n",
       "    </tr>\n",
       "    <tr>\n",
       "      <th>YORKTOWN</th>\n",
       "      <td>3.0</td>\n",
       "      <td>2003.666667</td>\n",
       "      <td>2.886751</td>\n",
       "      <td>2002.0</td>\n",
       "      <td>2002.00</td>\n",
       "      <td>2002.0</td>\n",
       "      <td>2004.50</td>\n",
       "      <td>2007.0</td>\n",
       "    </tr>\n",
       "    <tr>\n",
       "      <th>YORKVILLE</th>\n",
       "      <td>5.0</td>\n",
       "      <td>1998.800000</td>\n",
       "      <td>11.432410</td>\n",
       "      <td>1989.0</td>\n",
       "      <td>1990.00</td>\n",
       "      <td>1993.0</td>\n",
       "      <td>2008.00</td>\n",
       "      <td>2014.0</td>\n",
       "    </tr>\n",
       "    <tr>\n",
       "      <th>YULEE</th>\n",
       "      <td>1.0</td>\n",
       "      <td>1999.000000</td>\n",
       "      <td>NaN</td>\n",
       "      <td>1999.0</td>\n",
       "      <td>1999.00</td>\n",
       "      <td>1999.0</td>\n",
       "      <td>1999.00</td>\n",
       "      <td>1999.0</td>\n",
       "    </tr>\n",
       "    <tr>\n",
       "      <th>YUMA</th>\n",
       "      <td>2.0</td>\n",
       "      <td>2006.000000</td>\n",
       "      <td>0.000000</td>\n",
       "      <td>2006.0</td>\n",
       "      <td>2006.00</td>\n",
       "      <td>2006.0</td>\n",
       "      <td>2006.00</td>\n",
       "      <td>2006.0</td>\n",
       "    </tr>\n",
       "    <tr>\n",
       "      <th>ZANESVILLE</th>\n",
       "      <td>1.0</td>\n",
       "      <td>1989.000000</td>\n",
       "      <td>NaN</td>\n",
       "      <td>1989.0</td>\n",
       "      <td>1989.00</td>\n",
       "      <td>1989.0</td>\n",
       "      <td>1989.00</td>\n",
       "      <td>1989.0</td>\n",
       "    </tr>\n",
       "    <tr>\n",
       "      <th>ZEIGLER</th>\n",
       "      <td>1.0</td>\n",
       "      <td>1990.000000</td>\n",
       "      <td>NaN</td>\n",
       "      <td>1990.0</td>\n",
       "      <td>1990.00</td>\n",
       "      <td>1990.0</td>\n",
       "      <td>1990.00</td>\n",
       "      <td>1990.0</td>\n",
       "    </tr>\n",
       "    <tr>\n",
       "      <th>ZHEJIANG CHINA</th>\n",
       "      <td>1.0</td>\n",
       "      <td>2010.000000</td>\n",
       "      <td>NaN</td>\n",
       "      <td>2010.0</td>\n",
       "      <td>2010.00</td>\n",
       "      <td>2010.0</td>\n",
       "      <td>2010.00</td>\n",
       "      <td>2010.0</td>\n",
       "    </tr>\n",
       "    <tr>\n",
       "      <th>ZION</th>\n",
       "      <td>10.0</td>\n",
       "      <td>1997.500000</td>\n",
       "      <td>8.784456</td>\n",
       "      <td>1988.0</td>\n",
       "      <td>1993.25</td>\n",
       "      <td>1994.5</td>\n",
       "      <td>1998.00</td>\n",
       "      <td>2013.0</td>\n",
       "    </tr>\n",
       "    <tr>\n",
       "      <th>ZIONSVILLE</th>\n",
       "      <td>1.0</td>\n",
       "      <td>1999.000000</td>\n",
       "      <td>NaN</td>\n",
       "      <td>1999.0</td>\n",
       "      <td>1999.00</td>\n",
       "      <td>1999.0</td>\n",
       "      <td>1999.00</td>\n",
       "      <td>1999.0</td>\n",
       "    </tr>\n",
       "    <tr>\n",
       "      <th>`</th>\n",
       "      <td>1.0</td>\n",
       "      <td>1990.000000</td>\n",
       "      <td>NaN</td>\n",
       "      <td>1990.0</td>\n",
       "      <td>1990.00</td>\n",
       "      <td>1990.0</td>\n",
       "      <td>1990.00</td>\n",
       "      <td>1990.0</td>\n",
       "    </tr>\n",
       "    <tr>\n",
       "      <th>`HAMPAIGN</th>\n",
       "      <td>1.0</td>\n",
       "      <td>2001.000000</td>\n",
       "      <td>NaN</td>\n",
       "      <td>2001.0</td>\n",
       "      <td>2001.00</td>\n",
       "      <td>2001.0</td>\n",
       "      <td>2001.00</td>\n",
       "      <td>2001.0</td>\n",
       "    </tr>\n",
       "    <tr>\n",
       "      <th>`RBANA</th>\n",
       "      <td>6.0</td>\n",
       "      <td>2004.000000</td>\n",
       "      <td>3.224903</td>\n",
       "      <td>2000.0</td>\n",
       "      <td>2001.25</td>\n",
       "      <td>2005.0</td>\n",
       "      <td>2006.50</td>\n",
       "      <td>2007.0</td>\n",
       "    </tr>\n",
       "  </tbody>\n",
       "</table>\n",
       "<p>2748 rows × 8 columns</p>\n",
       "</div>"
      ],
      "text/plain": [
       "                    count         mean        std     min      25%     50%  \\\n",
       "arrestee_home_city                                                           \n",
       " 11/90  URBANA        1.0  1990.000000        NaN  1990.0  1990.00  1990.0   \n",
       " CHAMPAIGN            1.0  1991.000000        NaN  1991.0  1991.00  1991.0   \n",
       " OAK PARK             1.0  1989.000000        NaN  1989.0  1989.00  1989.0   \n",
       " URBANA               6.0  2009.833333   4.355074  2005.0  2006.25  2009.5   \n",
       "#102 CHAMPAIGN        2.0  2008.000000   0.000000  2008.0  2008.00  2008.0   \n",
       "#11 URBANA 6-89       1.0  1989.000000        NaN  1989.0  1989.00  1989.0   \n",
       "#1133, URBANA         1.0  1998.000000        NaN  1998.0  1998.00  1998.0   \n",
       "#2016,TEMPE           1.0  2007.000000        NaN  2007.0  2007.00  2007.0   \n",
       "#203  URBANA          1.0  2013.000000        NaN  2013.0  2013.00  2013.0   \n",
       "#311, URBANA          1.0  1998.000000        NaN  1998.0  1998.00  1998.0   \n",
       "#6  CARBONDALE        1.0  2005.000000        NaN  2005.0  2005.00  2005.0   \n",
       "#8 BISMARK            1.0  2004.000000        NaN  2004.0  2004.00  2004.0   \n",
       ".                    30.0  1999.633333   6.408418  1989.0  1995.25  1997.0   \n",
       "01-90                 2.0  1989.500000   0.707107  1989.0  1989.25  1989.5   \n",
       "02-90  URBANA         1.0  1990.000000        NaN  1990.0  1990.00  1990.0   \n",
       "03/90 MILWAUKEE       2.0  1989.500000   0.707107  1989.0  1989.25  1989.5   \n",
       "1-C  URBANA           1.0  1999.000000        NaN  1999.0  1999.00  1999.0   \n",
       "1/90  RANTOUL         2.0  1990.000000   0.000000  1990.0  1990.00  1990.0   \n",
       "1/90  URBANA          1.0  1990.000000        NaN  1990.0  1990.00  1990.0   \n",
       "1/90 CHAMPAIGN        1.0  1990.000000        NaN  1990.0  1990.00  1990.0   \n",
       "1/91 CHAMPAIGN        5.0  1991.000000   0.000000  1991.0  1991.00  1991.0   \n",
       "1/92 CHAMPAIGN        1.0  1992.000000        NaN  1992.0  1992.00  1992.0   \n",
       "10/90 CHICAGO         1.0  1990.000000        NaN  1990.0  1990.00  1990.0   \n",
       "10/90 URBANA          1.0  1989.000000        NaN  1989.0  1989.00  1989.0   \n",
       "10/91 CHAMPAIGN       1.0  1991.000000        NaN  1991.0  1991.00  1991.0   \n",
       "10/91 URBANA          2.0  1990.000000   0.000000  1990.0  1990.00  1990.0   \n",
       "10/92 HINSDALE        1.0  1992.000000        NaN  1992.0  1992.00  1992.0   \n",
       "10/92 URBANA          1.0  1992.000000        NaN  1992.0  1992.00  1992.0   \n",
       "10/94 CHAMPAIGN       1.0  1994.000000        NaN  1994.0  1994.00  1994.0   \n",
       "10/94 URBANA          3.0  1994.000000   0.000000  1994.0  1994.00  1994.0   \n",
       "...                   ...          ...        ...     ...      ...     ...   \n",
       "WOODBURY              1.0  1988.000000        NaN  1988.0  1988.00  1988.0   \n",
       "WOODDALE              2.0  2004.000000   8.485281  1998.0  2001.00  2004.0   \n",
       "WOODHULL              2.0  2000.500000  10.606602  1993.0  1996.75  2000.5   \n",
       "WOODLAWN              2.0  2010.000000   9.899495  2003.0  2006.50  2010.0   \n",
       "WOODRIDGE            14.0  2005.285714  10.010983  1989.0  1996.25  2007.5   \n",
       "WOODRIVER             1.0  1998.000000        NaN  1998.0  1998.00  1998.0   \n",
       "WOODSIDE              1.0  2006.000000        NaN  2006.0  2006.00  2006.0   \n",
       "WOODSTOCK            11.0  2004.545455   7.448002  1989.0  2001.00  2002.0   \n",
       "WORCESTER             2.0  2001.500000  16.263456  1990.0  1995.75  2001.5   \n",
       "WORDEN                1.0  1995.000000        NaN  1995.0  1995.00  1995.0   \n",
       "WORTH                 7.0  2008.714286   9.411239  1988.0  2009.50  2011.0   \n",
       "WORTHINGTON           6.0  1999.666667   6.860515  1993.0  1993.50  1999.5   \n",
       "WRIGHT CITY           2.0  1988.500000   0.707107  1988.0  1988.25  1988.5   \n",
       "WYNNE                 1.0  1989.000000        NaN  1989.0  1989.00  1989.0   \n",
       "WYOMING               3.0  2008.666667   2.081666  2007.0  2007.50  2008.0   \n",
       "YALE                  2.0  2000.000000  15.556349  1989.0  1994.50  2000.0   \n",
       "YAPHANK               1.0  1994.000000        NaN  1994.0  1994.00  1994.0   \n",
       "YELM                  1.0  2008.000000        NaN  2008.0  2008.00  2008.0   \n",
       "YORKTOWN              3.0  2003.666667   2.886751  2002.0  2002.00  2002.0   \n",
       "YORKVILLE             5.0  1998.800000  11.432410  1989.0  1990.00  1993.0   \n",
       "YULEE                 1.0  1999.000000        NaN  1999.0  1999.00  1999.0   \n",
       "YUMA                  2.0  2006.000000   0.000000  2006.0  2006.00  2006.0   \n",
       "ZANESVILLE            1.0  1989.000000        NaN  1989.0  1989.00  1989.0   \n",
       "ZEIGLER               1.0  1990.000000        NaN  1990.0  1990.00  1990.0   \n",
       "ZHEJIANG CHINA        1.0  2010.000000        NaN  2010.0  2010.00  2010.0   \n",
       "ZION                 10.0  1997.500000   8.784456  1988.0  1993.25  1994.5   \n",
       "ZIONSVILLE            1.0  1999.000000        NaN  1999.0  1999.00  1999.0   \n",
       "`                     1.0  1990.000000        NaN  1990.0  1990.00  1990.0   \n",
       "`HAMPAIGN             1.0  2001.000000        NaN  2001.0  2001.00  2001.0   \n",
       "`RBANA                6.0  2004.000000   3.224903  2000.0  2001.25  2005.0   \n",
       "\n",
       "                        75%     max  \n",
       "arrestee_home_city                   \n",
       " 11/90  URBANA      1990.00  1990.0  \n",
       " CHAMPAIGN          1991.00  1991.0  \n",
       " OAK PARK           1989.00  1989.0  \n",
       " URBANA             2013.50  2015.0  \n",
       "#102 CHAMPAIGN      2008.00  2008.0  \n",
       "#11 URBANA 6-89     1989.00  1989.0  \n",
       "#1133, URBANA       1998.00  1998.0  \n",
       "#2016,TEMPE         2007.00  2007.0  \n",
       "#203  URBANA        2013.00  2013.0  \n",
       "#311, URBANA        1998.00  1998.0  \n",
       "#6  CARBONDALE      2005.00  2005.0  \n",
       "#8 BISMARK          2004.00  2004.0  \n",
       ".                   2004.00  2014.0  \n",
       "01-90               1989.75  1990.0  \n",
       "02-90  URBANA       1990.00  1990.0  \n",
       "03/90 MILWAUKEE     1989.75  1990.0  \n",
       "1-C  URBANA         1999.00  1999.0  \n",
       "1/90  RANTOUL       1990.00  1990.0  \n",
       "1/90  URBANA        1990.00  1990.0  \n",
       "1/90 CHAMPAIGN      1990.00  1990.0  \n",
       "1/91 CHAMPAIGN      1991.00  1991.0  \n",
       "1/92 CHAMPAIGN      1992.00  1992.0  \n",
       "10/90 CHICAGO       1990.00  1990.0  \n",
       "10/90 URBANA        1989.00  1989.0  \n",
       "10/91 CHAMPAIGN     1991.00  1991.0  \n",
       "10/91 URBANA        1990.00  1990.0  \n",
       "10/92 HINSDALE      1992.00  1992.0  \n",
       "10/92 URBANA        1992.00  1992.0  \n",
       "10/94 CHAMPAIGN     1994.00  1994.0  \n",
       "10/94 URBANA        1994.00  1994.0  \n",
       "...                     ...     ...  \n",
       "WOODBURY            1988.00  1988.0  \n",
       "WOODDALE            2007.00  2010.0  \n",
       "WOODHULL            2004.25  2008.0  \n",
       "WOODLAWN            2013.50  2017.0  \n",
       "WOODRIDGE           2012.00  2016.0  \n",
       "WOODRIVER           1998.00  1998.0  \n",
       "WOODSIDE            2006.00  2006.0  \n",
       "WOODSTOCK           2009.00  2018.0  \n",
       "WORCESTER           2007.25  2013.0  \n",
       "WORDEN              1995.00  1995.0  \n",
       "WORTH               2014.00  2015.0  \n",
       "WORTHINGTON         2004.00  2009.0  \n",
       "WRIGHT CITY         1988.75  1989.0  \n",
       "WYNNE               1989.00  1989.0  \n",
       "WYOMING             2009.50  2011.0  \n",
       "YALE                2005.50  2011.0  \n",
       "YAPHANK             1994.00  1994.0  \n",
       "YELM                2008.00  2008.0  \n",
       "YORKTOWN            2004.50  2007.0  \n",
       "YORKVILLE           2008.00  2014.0  \n",
       "YULEE               1999.00  1999.0  \n",
       "YUMA                2006.00  2006.0  \n",
       "ZANESVILLE          1989.00  1989.0  \n",
       "ZEIGLER             1990.00  1990.0  \n",
       "ZHEJIANG CHINA      2010.00  2010.0  \n",
       "ZION                1998.00  2013.0  \n",
       "ZIONSVILLE          1999.00  1999.0  \n",
       "`                   1990.00  1990.0  \n",
       "`HAMPAIGN           2001.00  2001.0  \n",
       "`RBANA              2006.50  2007.0  \n",
       "\n",
       "[2748 rows x 8 columns]"
      ]
     },
     "execution_count": 8,
     "metadata": {},
     "output_type": "execute_result"
    }
   ],
   "source": [
    "data.groupby(\"arrestee_home_city\")[\"year_of_arrest\"].describe()"
   ]
  },
  {
   "cell_type": "code",
   "execution_count": 9,
   "metadata": {},
   "outputs": [],
   "source": [
    "#data cleaning\n",
    "\n",
    "clean_data =data.dropna(subset=['arrestee_home_city'])"
   ]
  },
  {
   "cell_type": "code",
   "execution_count": 10,
   "metadata": {},
   "outputs": [],
   "source": [
    "employment_disc = data.arrestee_employment_description.fillna(\"UNKNOWN\")"
   ]
  },
  {
   "cell_type": "code",
   "execution_count": 11,
   "metadata": {},
   "outputs": [
    {
     "data": {
      "text/plain": [
       "177168"
      ]
     },
     "execution_count": 11,
     "metadata": {},
     "output_type": "execute_result"
    }
   ],
   "source": [
    "clean_data[\"arrestee_home_city\"].count()"
   ]
  },
  {
   "cell_type": "code",
   "execution_count": 12,
   "metadata": {},
   "outputs": [
    {
     "data": {
      "text/plain": [
       "0"
      ]
     },
     "execution_count": 12,
     "metadata": {},
     "output_type": "execute_result"
    }
   ],
   "source": [
    "clean_data[\"arrestee_home_city\"].isna().sum()"
   ]
  },
  {
   "cell_type": "code",
   "execution_count": 13,
   "metadata": {},
   "outputs": [
    {
     "name": "stderr",
     "output_type": "stream",
     "text": [
      "/home/shared/sp18-is590dv/conda_envs/is590dv-default/lib/python3.6/site-packages/pandas/core/indexing.py:543: SettingWithCopyWarning: \n",
      "A value is trying to be set on a copy of a slice from a DataFrame.\n",
      "Try using .loc[row_indexer,col_indexer] = value instead\n",
      "\n",
      "See the caveats in the documentation: http://pandas.pydata.org/pandas-docs/stable/indexing.html#indexing-view-versus-copy\n",
      "  self.obj[item] = s\n",
      "/home/shared/sp18-is590dv/conda_envs/is590dv-default/lib/python3.6/site-packages/pandas/core/indexing.py:189: SettingWithCopyWarning: \n",
      "A value is trying to be set on a copy of a slice from a DataFrame\n",
      "\n",
      "See the caveats in the documentation: http://pandas.pydata.org/pandas-docs/stable/indexing.html#indexing-view-versus-copy\n",
      "  self._setitem_with_indexer(indexer, value)\n",
      "/home/shared/sp18-is590dv/conda_envs/is590dv-default/lib/python3.6/site-packages/ipykernel/__main__.py:2: SettingWithCopyWarning: \n",
      "A value is trying to be set on a copy of a slice from a DataFrame\n",
      "\n",
      "See the caveats in the documentation: http://pandas.pydata.org/pandas-docs/stable/indexing.html#indexing-view-versus-copy\n",
      "  from ipykernel import kernelapp as app\n",
      "/home/shared/sp18-is590dv/conda_envs/is590dv-default/lib/python3.6/site-packages/ipykernel/__main__.py:3: SettingWithCopyWarning: \n",
      "A value is trying to be set on a copy of a slice from a DataFrame\n",
      "\n",
      "See the caveats in the documentation: http://pandas.pydata.org/pandas-docs/stable/indexing.html#indexing-view-versus-copy\n",
      "  app.launch_new_instance()\n",
      "/home/shared/sp18-is590dv/conda_envs/is590dv-default/lib/python3.6/site-packages/ipykernel/__main__.py:4: SettingWithCopyWarning: \n",
      "A value is trying to be set on a copy of a slice from a DataFrame\n",
      "\n",
      "See the caveats in the documentation: http://pandas.pydata.org/pandas-docs/stable/indexing.html#indexing-view-versus-copy\n",
      "/home/shared/sp18-is590dv/conda_envs/is590dv-default/lib/python3.6/site-packages/ipykernel/__main__.py:5: SettingWithCopyWarning: \n",
      "A value is trying to be set on a copy of a slice from a DataFrame\n",
      "\n",
      "See the caveats in the documentation: http://pandas.pydata.org/pandas-docs/stable/indexing.html#indexing-view-versus-copy\n",
      "/home/shared/sp18-is590dv/conda_envs/is590dv-default/lib/python3.6/site-packages/ipykernel/__main__.py:6: SettingWithCopyWarning: \n",
      "A value is trying to be set on a copy of a slice from a DataFrame\n",
      "\n",
      "See the caveats in the documentation: http://pandas.pydata.org/pandas-docs/stable/indexing.html#indexing-view-versus-copy\n",
      "/home/shared/sp18-is590dv/conda_envs/is590dv-default/lib/python3.6/site-packages/ipykernel/__main__.py:7: SettingWithCopyWarning: \n",
      "A value is trying to be set on a copy of a slice from a DataFrame\n",
      "\n",
      "See the caveats in the documentation: http://pandas.pydata.org/pandas-docs/stable/indexing.html#indexing-view-versus-copy\n",
      "/home/shared/sp18-is590dv/conda_envs/is590dv-default/lib/python3.6/site-packages/ipykernel/__main__.py:8: SettingWithCopyWarning: \n",
      "A value is trying to be set on a copy of a slice from a DataFrame\n",
      "\n",
      "See the caveats in the documentation: http://pandas.pydata.org/pandas-docs/stable/indexing.html#indexing-view-versus-copy\n",
      "/home/shared/sp18-is590dv/conda_envs/is590dv-default/lib/python3.6/site-packages/ipykernel/__main__.py:9: SettingWithCopyWarning: \n",
      "A value is trying to be set on a copy of a slice from a DataFrame\n",
      "\n",
      "See the caveats in the documentation: http://pandas.pydata.org/pandas-docs/stable/indexing.html#indexing-view-versus-copy\n"
     ]
    }
   ],
   "source": [
    "clean_data.loc[clean_data[\"arrestee_home_city\"].str.contains('CHAMAP')] = 'CHAMPAIGN'\n",
    "clean_data.loc[clean_data['arrestee_home_city'].str.contains('HMPAIGN'),'arrestee_home_city'] = 'CHAMPAIGN'\n",
    "clean_data.loc[clean_data['arrestee_home_city'].str.contains('HAMPA'),'arrestee_home_city'] = 'CHAMPAIGN'\n",
    "clean_data.loc[clean_data['arrestee_home_city'].str.contains('RBANA'),'arrestee_home_city'] = 'URBANA'\n",
    "clean_data.loc[clean_data['arrestee_home_city'].str.contains('URANA'),'arrestee_home_city'] = 'URBANA'\n",
    "clean_data.loc[clean_data['arrestee_home_city'].str.contains('URABAN'),'arrestee_home_city'] = 'URBANA'\n",
    "clean_data.loc[clean_data['arrestee_home_city'].str.contains('URABNA'),'arrestee_home_city'] = 'URBANA'\n",
    "clean_data.loc[clean_data['arrestee_home_city'].str.contains('URBAAN'),'arrestee_home_city'] = 'URBANA'\n",
    "clean_data.loc[clean_data['arrestee_home_city'].str.contains('URBAN'),'arrestee_home_city'] = 'URBANA'"
   ]
  },
  {
   "cell_type": "code",
   "execution_count": 14,
   "metadata": {},
   "outputs": [
    {
     "data": {
      "text/plain": [
       "count     177168\n",
       "unique      2471\n",
       "top       URBANA\n",
       "freq       88860\n",
       "Name: arrestee_home_city, dtype: object"
      ]
     },
     "execution_count": 14,
     "metadata": {},
     "output_type": "execute_result"
    }
   ],
   "source": [
    "clean_data[\"arrestee_home_city\"].describe()"
   ]
  },
  {
   "cell_type": "code",
   "execution_count": 15,
   "metadata": {},
   "outputs": [
    {
     "data": {
      "text/html": [
       "<div>\n",
       "<style scoped>\n",
       "    .dataframe tbody tr th:only-of-type {\n",
       "        vertical-align: middle;\n",
       "    }\n",
       "\n",
       "    .dataframe tbody tr th {\n",
       "        vertical-align: top;\n",
       "    }\n",
       "\n",
       "    .dataframe thead th {\n",
       "        text-align: right;\n",
       "    }\n",
       "</style>\n",
       "<table border=\"1\" class=\"dataframe\">\n",
       "  <thead>\n",
       "    <tr style=\"text-align: right;\">\n",
       "      <th></th>\n",
       "      <th>count</th>\n",
       "      <th>unique</th>\n",
       "      <th>top</th>\n",
       "      <th>freq</th>\n",
       "    </tr>\n",
       "    <tr>\n",
       "      <th>arrestee_home_city</th>\n",
       "      <th></th>\n",
       "      <th></th>\n",
       "      <th></th>\n",
       "      <th></th>\n",
       "    </tr>\n",
       "  </thead>\n",
       "  <tbody>\n",
       "    <tr>\n",
       "      <th>OAK PARK</th>\n",
       "      <td>1</td>\n",
       "      <td>1</td>\n",
       "      <td>1989</td>\n",
       "      <td>1</td>\n",
       "    </tr>\n",
       "    <tr>\n",
       "      <th>#2016,TEMPE</th>\n",
       "      <td>1</td>\n",
       "      <td>1</td>\n",
       "      <td>2007</td>\n",
       "      <td>1</td>\n",
       "    </tr>\n",
       "    <tr>\n",
       "      <th>#6  CARBONDALE</th>\n",
       "      <td>1</td>\n",
       "      <td>1</td>\n",
       "      <td>2005</td>\n",
       "      <td>1</td>\n",
       "    </tr>\n",
       "    <tr>\n",
       "      <th>#8 BISMARK</th>\n",
       "      <td>1</td>\n",
       "      <td>1</td>\n",
       "      <td>2004</td>\n",
       "      <td>1</td>\n",
       "    </tr>\n",
       "    <tr>\n",
       "      <th>.</th>\n",
       "      <td>30</td>\n",
       "      <td>15</td>\n",
       "      <td>1997</td>\n",
       "      <td>6</td>\n",
       "    </tr>\n",
       "    <tr>\n",
       "      <th>01-90</th>\n",
       "      <td>2</td>\n",
       "      <td>2</td>\n",
       "      <td>1990</td>\n",
       "      <td>1</td>\n",
       "    </tr>\n",
       "    <tr>\n",
       "      <th>03/90 MILWAUKEE</th>\n",
       "      <td>2</td>\n",
       "      <td>2</td>\n",
       "      <td>1990</td>\n",
       "      <td>1</td>\n",
       "    </tr>\n",
       "    <tr>\n",
       "      <th>1/90  RANTOUL</th>\n",
       "      <td>2</td>\n",
       "      <td>1</td>\n",
       "      <td>1990</td>\n",
       "      <td>2</td>\n",
       "    </tr>\n",
       "    <tr>\n",
       "      <th>10/90 CHICAGO</th>\n",
       "      <td>1</td>\n",
       "      <td>1</td>\n",
       "      <td>1990</td>\n",
       "      <td>1</td>\n",
       "    </tr>\n",
       "    <tr>\n",
       "      <th>10/92 HINSDALE</th>\n",
       "      <td>1</td>\n",
       "      <td>1</td>\n",
       "      <td>1992</td>\n",
       "      <td>1</td>\n",
       "    </tr>\n",
       "    <tr>\n",
       "      <th>11/89/CAFB/RANT</th>\n",
       "      <td>2</td>\n",
       "      <td>1</td>\n",
       "      <td>1989</td>\n",
       "      <td>2</td>\n",
       "    </tr>\n",
       "    <tr>\n",
       "      <th>11/91 PEORIA</th>\n",
       "      <td>1</td>\n",
       "      <td>1</td>\n",
       "      <td>1991</td>\n",
       "      <td>1</td>\n",
       "    </tr>\n",
       "    <tr>\n",
       "      <th>12/92 MARSHALL</th>\n",
       "      <td>1</td>\n",
       "      <td>1</td>\n",
       "      <td>1992</td>\n",
       "      <td>1</td>\n",
       "    </tr>\n",
       "    <tr>\n",
       "      <th>1996</th>\n",
       "      <td>1</td>\n",
       "      <td>1</td>\n",
       "      <td>1993</td>\n",
       "      <td>1</td>\n",
       "    </tr>\n",
       "    <tr>\n",
       "      <th>2-89 CATLIN</th>\n",
       "      <td>1</td>\n",
       "      <td>1</td>\n",
       "      <td>1989</td>\n",
       "      <td>1</td>\n",
       "    </tr>\n",
       "    <tr>\n",
       "      <th>2/93  CRETE</th>\n",
       "      <td>1</td>\n",
       "      <td>1</td>\n",
       "      <td>1993</td>\n",
       "      <td>1</td>\n",
       "    </tr>\n",
       "    <tr>\n",
       "      <th>3/90  LILBURN</th>\n",
       "      <td>1</td>\n",
       "      <td>1</td>\n",
       "      <td>1990</td>\n",
       "      <td>1</td>\n",
       "    </tr>\n",
       "    <tr>\n",
       "      <th>4/91</th>\n",
       "      <td>1</td>\n",
       "      <td>1</td>\n",
       "      <td>1988</td>\n",
       "      <td>1</td>\n",
       "    </tr>\n",
       "    <tr>\n",
       "      <th>4/91 ATLANTA</th>\n",
       "      <td>1</td>\n",
       "      <td>1</td>\n",
       "      <td>1991</td>\n",
       "      <td>1</td>\n",
       "    </tr>\n",
       "    <tr>\n",
       "      <th>5/91 NORTHBROOK</th>\n",
       "      <td>1</td>\n",
       "      <td>1</td>\n",
       "      <td>1991</td>\n",
       "      <td>1</td>\n",
       "    </tr>\n",
       "    <tr>\n",
       "      <th>504-16 MAHOMET</th>\n",
       "      <td>2</td>\n",
       "      <td>2</td>\n",
       "      <td>1995</td>\n",
       "      <td>1</td>\n",
       "    </tr>\n",
       "    <tr>\n",
       "      <th>6/90 TAMMS</th>\n",
       "      <td>2</td>\n",
       "      <td>1</td>\n",
       "      <td>1990</td>\n",
       "      <td>2</td>\n",
       "    </tr>\n",
       "    <tr>\n",
       "      <th>6/95 DECATUR</th>\n",
       "      <td>2</td>\n",
       "      <td>1</td>\n",
       "      <td>1995</td>\n",
       "      <td>2</td>\n",
       "    </tr>\n",
       "    <tr>\n",
       "      <th>7/90 SAN DIEGO</th>\n",
       "      <td>1</td>\n",
       "      <td>1</td>\n",
       "      <td>1990</td>\n",
       "      <td>1</td>\n",
       "    </tr>\n",
       "    <tr>\n",
       "      <th>9/91 WOODRIDGE</th>\n",
       "      <td>1</td>\n",
       "      <td>1</td>\n",
       "      <td>1991</td>\n",
       "      <td>1</td>\n",
       "    </tr>\n",
       "    <tr>\n",
       "      <th>9/95 SIDNEY</th>\n",
       "      <td>1</td>\n",
       "      <td>1</td>\n",
       "      <td>1995</td>\n",
       "      <td>1</td>\n",
       "    </tr>\n",
       "    <tr>\n",
       "      <th>?</th>\n",
       "      <td>2</td>\n",
       "      <td>1</td>\n",
       "      <td>2003</td>\n",
       "      <td>2</td>\n",
       "    </tr>\n",
       "    <tr>\n",
       "      <th>ABBEVILLE</th>\n",
       "      <td>1</td>\n",
       "      <td>1</td>\n",
       "      <td>1989</td>\n",
       "      <td>1</td>\n",
       "    </tr>\n",
       "    <tr>\n",
       "      <th>ABILENE</th>\n",
       "      <td>2</td>\n",
       "      <td>2</td>\n",
       "      <td>2010</td>\n",
       "      <td>1</td>\n",
       "    </tr>\n",
       "    <tr>\n",
       "      <th>ABINGDON</th>\n",
       "      <td>1</td>\n",
       "      <td>1</td>\n",
       "      <td>1996</td>\n",
       "      <td>1</td>\n",
       "    </tr>\n",
       "    <tr>\n",
       "      <th>...</th>\n",
       "      <td>...</td>\n",
       "      <td>...</td>\n",
       "      <td>...</td>\n",
       "      <td>...</td>\n",
       "    </tr>\n",
       "    <tr>\n",
       "      <th>WOODBINE</th>\n",
       "      <td>1</td>\n",
       "      <td>1</td>\n",
       "      <td>2003</td>\n",
       "      <td>1</td>\n",
       "    </tr>\n",
       "    <tr>\n",
       "      <th>WOODBURN</th>\n",
       "      <td>1</td>\n",
       "      <td>1</td>\n",
       "      <td>1996</td>\n",
       "      <td>1</td>\n",
       "    </tr>\n",
       "    <tr>\n",
       "      <th>WOODBURY</th>\n",
       "      <td>1</td>\n",
       "      <td>1</td>\n",
       "      <td>1988</td>\n",
       "      <td>1</td>\n",
       "    </tr>\n",
       "    <tr>\n",
       "      <th>WOODDALE</th>\n",
       "      <td>2</td>\n",
       "      <td>2</td>\n",
       "      <td>1998</td>\n",
       "      <td>1</td>\n",
       "    </tr>\n",
       "    <tr>\n",
       "      <th>WOODHULL</th>\n",
       "      <td>2</td>\n",
       "      <td>2</td>\n",
       "      <td>1993</td>\n",
       "      <td>1</td>\n",
       "    </tr>\n",
       "    <tr>\n",
       "      <th>WOODLAWN</th>\n",
       "      <td>2</td>\n",
       "      <td>2</td>\n",
       "      <td>2003</td>\n",
       "      <td>1</td>\n",
       "    </tr>\n",
       "    <tr>\n",
       "      <th>WOODRIDGE</th>\n",
       "      <td>14</td>\n",
       "      <td>8</td>\n",
       "      <td>2012</td>\n",
       "      <td>3</td>\n",
       "    </tr>\n",
       "    <tr>\n",
       "      <th>WOODRIVER</th>\n",
       "      <td>1</td>\n",
       "      <td>1</td>\n",
       "      <td>1998</td>\n",
       "      <td>1</td>\n",
       "    </tr>\n",
       "    <tr>\n",
       "      <th>WOODSIDE</th>\n",
       "      <td>1</td>\n",
       "      <td>1</td>\n",
       "      <td>2006</td>\n",
       "      <td>1</td>\n",
       "    </tr>\n",
       "    <tr>\n",
       "      <th>WOODSTOCK</th>\n",
       "      <td>11</td>\n",
       "      <td>7</td>\n",
       "      <td>2001</td>\n",
       "      <td>3</td>\n",
       "    </tr>\n",
       "    <tr>\n",
       "      <th>WORCESTER</th>\n",
       "      <td>2</td>\n",
       "      <td>2</td>\n",
       "      <td>1990</td>\n",
       "      <td>1</td>\n",
       "    </tr>\n",
       "    <tr>\n",
       "      <th>WORDEN</th>\n",
       "      <td>1</td>\n",
       "      <td>1</td>\n",
       "      <td>1995</td>\n",
       "      <td>1</td>\n",
       "    </tr>\n",
       "    <tr>\n",
       "      <th>WORTH</th>\n",
       "      <td>7</td>\n",
       "      <td>6</td>\n",
       "      <td>2014</td>\n",
       "      <td>2</td>\n",
       "    </tr>\n",
       "    <tr>\n",
       "      <th>WORTHINGTON</th>\n",
       "      <td>6</td>\n",
       "      <td>4</td>\n",
       "      <td>2004</td>\n",
       "      <td>2</td>\n",
       "    </tr>\n",
       "    <tr>\n",
       "      <th>WRIGHT CITY</th>\n",
       "      <td>2</td>\n",
       "      <td>2</td>\n",
       "      <td>1989</td>\n",
       "      <td>1</td>\n",
       "    </tr>\n",
       "    <tr>\n",
       "      <th>WYNNE</th>\n",
       "      <td>1</td>\n",
       "      <td>1</td>\n",
       "      <td>1989</td>\n",
       "      <td>1</td>\n",
       "    </tr>\n",
       "    <tr>\n",
       "      <th>WYOMING</th>\n",
       "      <td>3</td>\n",
       "      <td>3</td>\n",
       "      <td>2007</td>\n",
       "      <td>1</td>\n",
       "    </tr>\n",
       "    <tr>\n",
       "      <th>YALE</th>\n",
       "      <td>2</td>\n",
       "      <td>2</td>\n",
       "      <td>2011</td>\n",
       "      <td>1</td>\n",
       "    </tr>\n",
       "    <tr>\n",
       "      <th>YAPHANK</th>\n",
       "      <td>1</td>\n",
       "      <td>1</td>\n",
       "      <td>1994</td>\n",
       "      <td>1</td>\n",
       "    </tr>\n",
       "    <tr>\n",
       "      <th>YELM</th>\n",
       "      <td>1</td>\n",
       "      <td>1</td>\n",
       "      <td>2008</td>\n",
       "      <td>1</td>\n",
       "    </tr>\n",
       "    <tr>\n",
       "      <th>YORKTOWN</th>\n",
       "      <td>3</td>\n",
       "      <td>2</td>\n",
       "      <td>2002</td>\n",
       "      <td>2</td>\n",
       "    </tr>\n",
       "    <tr>\n",
       "      <th>YORKVILLE</th>\n",
       "      <td>5</td>\n",
       "      <td>5</td>\n",
       "      <td>1990</td>\n",
       "      <td>1</td>\n",
       "    </tr>\n",
       "    <tr>\n",
       "      <th>YULEE</th>\n",
       "      <td>1</td>\n",
       "      <td>1</td>\n",
       "      <td>1999</td>\n",
       "      <td>1</td>\n",
       "    </tr>\n",
       "    <tr>\n",
       "      <th>YUMA</th>\n",
       "      <td>2</td>\n",
       "      <td>1</td>\n",
       "      <td>2006</td>\n",
       "      <td>2</td>\n",
       "    </tr>\n",
       "    <tr>\n",
       "      <th>ZANESVILLE</th>\n",
       "      <td>1</td>\n",
       "      <td>1</td>\n",
       "      <td>1989</td>\n",
       "      <td>1</td>\n",
       "    </tr>\n",
       "    <tr>\n",
       "      <th>ZEIGLER</th>\n",
       "      <td>1</td>\n",
       "      <td>1</td>\n",
       "      <td>1990</td>\n",
       "      <td>1</td>\n",
       "    </tr>\n",
       "    <tr>\n",
       "      <th>ZHEJIANG CHINA</th>\n",
       "      <td>1</td>\n",
       "      <td>1</td>\n",
       "      <td>2010</td>\n",
       "      <td>1</td>\n",
       "    </tr>\n",
       "    <tr>\n",
       "      <th>ZION</th>\n",
       "      <td>10</td>\n",
       "      <td>7</td>\n",
       "      <td>1998</td>\n",
       "      <td>2</td>\n",
       "    </tr>\n",
       "    <tr>\n",
       "      <th>ZIONSVILLE</th>\n",
       "      <td>1</td>\n",
       "      <td>1</td>\n",
       "      <td>1999</td>\n",
       "      <td>1</td>\n",
       "    </tr>\n",
       "    <tr>\n",
       "      <th>`</th>\n",
       "      <td>1</td>\n",
       "      <td>1</td>\n",
       "      <td>1990</td>\n",
       "      <td>1</td>\n",
       "    </tr>\n",
       "  </tbody>\n",
       "</table>\n",
       "<p>2471 rows × 4 columns</p>\n",
       "</div>"
      ],
      "text/plain": [
       "                    count  unique   top  freq\n",
       "arrestee_home_city                           \n",
       " OAK PARK               1       1  1989     1\n",
       "#2016,TEMPE             1       1  2007     1\n",
       "#6  CARBONDALE          1       1  2005     1\n",
       "#8 BISMARK              1       1  2004     1\n",
       ".                      30      15  1997     6\n",
       "01-90                   2       2  1990     1\n",
       "03/90 MILWAUKEE         2       2  1990     1\n",
       "1/90  RANTOUL           2       1  1990     2\n",
       "10/90 CHICAGO           1       1  1990     1\n",
       "10/92 HINSDALE          1       1  1992     1\n",
       "11/89/CAFB/RANT         2       1  1989     2\n",
       "11/91 PEORIA            1       1  1991     1\n",
       "12/92 MARSHALL          1       1  1992     1\n",
       "1996                    1       1  1993     1\n",
       "2-89 CATLIN             1       1  1989     1\n",
       "2/93  CRETE             1       1  1993     1\n",
       "3/90  LILBURN           1       1  1990     1\n",
       "4/91                    1       1  1988     1\n",
       "4/91 ATLANTA            1       1  1991     1\n",
       "5/91 NORTHBROOK         1       1  1991     1\n",
       "504-16 MAHOMET          2       2  1995     1\n",
       "6/90 TAMMS              2       1  1990     2\n",
       "6/95 DECATUR            2       1  1995     2\n",
       "7/90 SAN DIEGO          1       1  1990     1\n",
       "9/91 WOODRIDGE          1       1  1991     1\n",
       "9/95 SIDNEY             1       1  1995     1\n",
       "?                       2       1  2003     2\n",
       "ABBEVILLE               1       1  1989     1\n",
       "ABILENE                 2       2  2010     1\n",
       "ABINGDON                1       1  1996     1\n",
       "...                   ...     ...   ...   ...\n",
       "WOODBINE                1       1  2003     1\n",
       "WOODBURN                1       1  1996     1\n",
       "WOODBURY                1       1  1988     1\n",
       "WOODDALE                2       2  1998     1\n",
       "WOODHULL                2       2  1993     1\n",
       "WOODLAWN                2       2  2003     1\n",
       "WOODRIDGE              14       8  2012     3\n",
       "WOODRIVER               1       1  1998     1\n",
       "WOODSIDE                1       1  2006     1\n",
       "WOODSTOCK              11       7  2001     3\n",
       "WORCESTER               2       2  1990     1\n",
       "WORDEN                  1       1  1995     1\n",
       "WORTH                   7       6  2014     2\n",
       "WORTHINGTON             6       4  2004     2\n",
       "WRIGHT CITY             2       2  1989     1\n",
       "WYNNE                   1       1  1989     1\n",
       "WYOMING                 3       3  2007     1\n",
       "YALE                    2       2  2011     1\n",
       "YAPHANK                 1       1  1994     1\n",
       "YELM                    1       1  2008     1\n",
       "YORKTOWN                3       2  2002     2\n",
       "YORKVILLE               5       5  1990     1\n",
       "YULEE                   1       1  1999     1\n",
       "YUMA                    2       1  2006     2\n",
       "ZANESVILLE              1       1  1989     1\n",
       "ZEIGLER                 1       1  1990     1\n",
       "ZHEJIANG CHINA          1       1  2010     1\n",
       "ZION                   10       7  1998     2\n",
       "ZIONSVILLE              1       1  1999     1\n",
       "`                       1       1  1990     1\n",
       "\n",
       "[2471 rows x 4 columns]"
      ]
     },
     "execution_count": 15,
     "metadata": {},
     "output_type": "execute_result"
    }
   ],
   "source": [
    "clean_data.groupby(\"arrestee_home_city\")[\"year_of_arrest\"].describe()"
   ]
  },
  {
   "cell_type": "markdown",
   "metadata": {},
   "source": [
    "# Age of Person at the time of arrest"
   ]
  },
  {
   "cell_type": "code",
   "execution_count": 16,
   "metadata": {},
   "outputs": [
    {
     "data": {
      "text/plain": [
       "Text(0.5, 1.0, 'Arrests by Age')"
      ]
     },
     "execution_count": 16,
     "metadata": {},
     "output_type": "execute_result"
    },
    {
     "data": {
      "image/png": "[encoded data removed]",
      "text/plain": [
       "<Figure size 1800x720 with 1 Axes>"
      ]
     },
     "metadata": {
      "needs_background": "light"
     },
     "output_type": "display_data"
    }
   ],
   "source": [
    "plt.figure(figsize = (25,10))\n",
    "data[\"age_at_arrest\"].value_counts().plot.bar()\n",
    "\n",
    "plt.xlabel('Age')\n",
    "plt.ylabel('Count')\n",
    "plt.title('Arrests by Age')"
   ]
  },
  {
   "cell_type": "code",
   "execution_count": 17,
   "metadata": {},
   "outputs": [],
   "source": [
    "data_under_18 = []\n",
    "\n",
    "data_under_18 = data.copy()\n",
    "condition = data_under_18[\"age_at_arrest\"] >= 18\n",
    "rows = data_under_18.loc[condition,:]\n",
    "data_under_18.drop(rows.index, inplace = True)   #19164 records\n",
    "\n",
    "#data_under_18"
   ]
  },
  {
   "cell_type": "code",
   "execution_count": 18,
   "metadata": {},
   "outputs": [],
   "source": [
    "data_age_errors = []\n",
    "data_age_errors = data_under_18.copy()\n",
    "\n",
    "condition = data_age_errors[\"age_at_arrest\"] > 0\n",
    "rows = data_age_errors.loc[condition,:]\n",
    "data_age_errors.drop(rows.index, inplace = True)  #207 records\n",
    "#data_age_errors"
   ]
  },
  {
   "cell_type": "code",
   "execution_count": 19,
   "metadata": {},
   "outputs": [],
   "source": [
    "data_minors = []\n",
    "\n",
    "data_minors = data_under_18.copy()\n",
    "\n",
    "condition = data_minors['age_at_arrest'] <= 0\n",
    "rows = data_minors.loc[(condition), :]\n",
    "data_minors.drop(rows.index, inplace=True)   #18957 records\n",
    "\n",
    "#data_minors"
   ]
  },
  {
   "cell_type": "code",
   "execution_count": 20,
   "metadata": {},
   "outputs": [],
   "source": [
    "data_non_minors = []\n",
    "data_non_minors = data.copy()\n",
    "\n",
    "cond = data_non_minors['age_at_arrest'] < 18\n",
    "rows = data_non_minors.loc[cond, :]\n",
    "data_non_minors.drop(rows.index, inplace=True)                # 181507 records\n",
    "\n",
    "#data_non_minors"
   ]
  },
  {
   "cell_type": "code",
   "execution_count": 21,
   "metadata": {},
   "outputs": [
    {
     "name": "stderr",
     "output_type": "stream",
     "text": [
      "/home/shared/sp18-is590dv/conda_envs/is590dv-default/lib/python3.6/site-packages/scipy/stats/stats.py:1713: FutureWarning: Using a non-tuple sequence for multidimensional indexing is deprecated; use `arr[tuple(seq)]` instead of `arr[seq]`. In the future this will be interpreted as an array index, `arr[np.array(seq)]`, which will result either in an error or a different result.\n",
      "  return np.add.reduce(sorted[indexer] * weights, axis=axis) / sumval\n"
     ]
    },
    {
     "data": {
      "image/png": "[encoded data removed]",
      "text/plain": [
       "<Figure size 1080x720 with 1 Axes>"
      ]
     },
     "metadata": {
      "needs_background": "light"
     },
     "output_type": "display_data"
    }
   ],
   "source": [
    "\n",
    "plt.figure(figsize = (15,10))\n",
    "# histogram\n",
    "sns.distplot(data_minors['age_at_arrest'])\n",
    "plt.ylabel('Probability', size = 10)\n",
    "plt.xlabel('Arrestee Age', size = 10)\n",
    "plt.title('Distribution of age at arrest for minors', size = 15);"
   ]
  },
  {
   "cell_type": "markdown",
   "metadata": {},
   "source": [
    "# Distribution By Race"
   ]
  },
  {
   "cell_type": "markdown",
   "metadata": {},
   "source": [
    "#### Firstly we wanted to look at the breakdown of crimes comitted by males and females individually. Later we broke down it to total crimes comitted by different races and after that we visualized it according to the races and gender both."
   ]
  },
  {
   "cell_type": "code",
   "execution_count": 22,
   "metadata": {},
   "outputs": [],
   "source": [
    "def get_x_y_for_plotting(pandas_series):\n",
    "    count_map = {}\n",
    "    for colum_data in pandas_series:\n",
    "        count_map[colum_data] = count_map.get(colum_data, 0) + 1\n",
    "\n",
    "    colum_data_list = []\n",
    "    count_list = []\n",
    "    for colum_data, count in count_map.items():\n",
    "        colum_data_list.append(colum_data)\n",
    "        count_list.append(count)\n",
    "    return colum_data_list, count_list"
   ]
  },
  {
   "cell_type": "code",
   "execution_count": 23,
   "metadata": {},
   "outputs": [
    {
     "data": {
      "text/plain": [
       "Text(0, 0.5, 'Arrested Counts')"
      ]
     },
     "execution_count": 23,
     "metadata": {},
     "output_type": "execute_result"
    },
    {
     "data": {
      "image/png": "[encoded data removed]",
      "text/plain": [
       "<Figure size 432x288 with 1 Axes>"
      ]
     },
     "metadata": {
      "needs_background": "light"
     },
     "output_type": "display_data"
    }
   ],
   "source": [
    "x, y = get_x_y_for_plotting(data[data.arrestee_sex.isin(['MALE', 'FEMALE'])].arrestee_sex)\n",
    "plt.bar(x, y)\n",
    "plt.title(\"Arrested Counts Associated to Gender in Urbana From 1989 ~ 2018\")\n",
    "plt.xlabel('Gender')\n",
    "plt.ylabel(\"Arrested Counts\")"
   ]
  },
  {
   "cell_type": "code",
   "execution_count": 24,
   "metadata": {},
   "outputs": [
    {
     "data": {
      "text/plain": [
       "array(['BLACK', 'WHITE', 'AMERICAN INDIAN/ALASKAN', 'HISPANIC', 'ASIAN',\n",
       "       'UNKNOWN', '.', 'BUSINESS OR OTHER'], dtype=object)"
      ]
     },
     "execution_count": 24,
     "metadata": {},
     "output_type": "execute_result"
    }
   ],
   "source": [
    "data[\"arrestee_race\"].unique()"
   ]
  },
  {
   "cell_type": "code",
   "execution_count": 25,
   "metadata": {},
   "outputs": [],
   "source": [
    "#cleaning arrestee race column\n",
    "\n",
    "clean_race_data = data[(data['arrestee_race'] != '.') & (data['arrestee_race'] != 'BUSINESS OR OTHER')]\n",
    "clean_race_df = clean_race_data.groupby('arrestee_race').count()\n",
    "#clean_race_df"
   ]
  },
  {
   "cell_type": "code",
   "execution_count": 26,
   "metadata": {},
   "outputs": [
    {
     "data": {
      "text/plain": [
       "arrestee_race\n",
       "UNKNOWN                       179\n",
       "AMERICAN INDIAN/ALASKAN       230\n",
       "HISPANIC                     7097\n",
       "ASIAN                        9287\n",
       "BLACK                       83264\n",
       "WHITE                      100417\n",
       "Name: count, dtype: int64"
      ]
     },
     "execution_count": 26,
     "metadata": {},
     "output_type": "execute_result"
    }
   ],
   "source": [
    "#sort race by highest to lowest\n",
    "sorted_race = clean_race_df['count'].sort_values()\n",
    "sorted_race"
   ]
  },
  {
   "cell_type": "code",
   "execution_count": 27,
   "metadata": {},
   "outputs": [
    {
     "data": {
      "text/plain": [
       "Text(0.5, 1.0, 'Racial breakdown of arrestees')"
      ]
     },
     "execution_count": 27,
     "metadata": {},
     "output_type": "execute_result"
    },
    {
     "data": {
      "image/png": "[encoded data removed]",
      "text/plain": [
       "<Figure size 720x504 with 1 Axes>"
      ]
     },
     "metadata": {
      "needs_background": "light"
     },
     "output_type": "display_data"
    }
   ],
   "source": [
    "plt.figure(figsize = (10,7))\n",
    "plt.barh(range(len(sorted_race.index)), sorted_race.values, color='blue')\n",
    "plt.yticks(range(len(sorted_race.index)), sorted_race.index)\n",
    "plt.xlabel('Number of people (thousands)', size = 12)\n",
    "plt.xticks([0, 20000, 40000, 60000, 80000, 100000], ['0', '20k', '40k', '60k','80k', '100k'])\n",
    "plt.title('Racial breakdown of arrestees', size = 15)"
   ]
  },
  {
   "cell_type": "code",
   "execution_count": 28,
   "metadata": {},
   "outputs": [],
   "source": [
    "def count_race_gender(race, gender):\n",
    "    return len(data[(data.arrestee_race == race)&(data.arrestee_sex == gender)])"
   ]
  },
  {
   "cell_type": "code",
   "execution_count": 29,
   "metadata": {},
   "outputs": [
    {
     "data": {
      "text/plain": [
       "<matplotlib.legend.Legend at 0x7f354569d128>"
      ]
     },
     "execution_count": 29,
     "metadata": {},
     "output_type": "execute_result"
    },
    {
     "data": {
      "image/png": "[encoded data removed]",
      "text/plain": [
       "<Figure size 432x288 with 1 Axes>"
      ]
     },
     "metadata": {
      "needs_background": "light"
     },
     "output_type": "display_data"
    }
   ],
   "source": [
    "mpl_fig = plt.figure()\n",
    "ax = mpl_fig.add_subplot(111)\n",
    "\n",
    "races = list(set(data[~data.arrestee_race.isin(['.', 'UNKNOWN', 'BUSINESS OR OTHER'])].arrestee_race))\n",
    "\n",
    "hash_map = {}\n",
    "for race in races:\n",
    "    hash_map[race] = {}\n",
    "    hash_map[race][\"MALE\"] = count_race_gender(race, \"MALE\")\n",
    "    hash_map[race][\"FEMALE\"] = count_race_gender(race, \"FEMALE\")\n",
    "\n",
    "male_count = [hash_map[race]['MALE'] for race in hash_map]\n",
    "female_count = [hash_map[race]['FEMALE'] for race in hash_map]\n",
    "\n",
    "p1 = ax.barh(races, male_count, color=(0.2588,0.4433,1.0))\n",
    "p2 = ax.barh(races, female_count, color=(1.0,0.5,0.62))\n",
    "ax.set_ylabel('Race')\n",
    "ax.set_xlabel('Count')\n",
    "ax.set_title('Crime counts by Races and Gender')\n",
    "\n",
    "\n",
    "plt.legend([\"MALE\", \"FEMALE\"])\n"
   ]
  },
  {
   "cell_type": "code",
   "execution_count": 30,
   "metadata": {},
   "outputs": [],
   "source": [
    "all_race = [race for race in sorted_race.index]\n",
    "all_race.append('ALL')\n",
    "all_race_rev = list(reversed(all_race))"
   ]
  },
  {
   "cell_type": "code",
   "execution_count": 31,
   "metadata": {},
   "outputs": [
    {
     "data": {
      "application/vnd.jupyter.widget-view+json": {
       "model_id": "1556a380eb64474ba108976c368f051e",
       "version_major": 2,
       "version_minor": 0
      },
      "text/plain": [
       "interactive(children=(Dropdown(description='selector', options=('ALL', 'WHITE', 'BLACK', 'ASIAN', 'HISPANIC', …"
      ]
     },
     "metadata": {},
     "output_type": "display_data"
    }
   ],
   "source": [
    "\n",
    "@ipywidgets.interact(selector = all_race_rev)\n",
    "def make_plot(selector):\n",
    "    if selector == 'ALL': \n",
    "        for race in all_race:\n",
    "            if race != 'ALL':\n",
    "                plt.plot(data[data['arrestee_race'] == race].groupby('year_of_arrest')['count'].count(), marker = '.', label=race)\n",
    "            plt.legend(prop={'size': 5})\n",
    "           \n",
    "    else: \n",
    "        plt.plot(data[data['arrestee_race'] == selector].groupby('year_of_arrest')['count'].count(), marker = '.', color='red', label=selector)\n",
    "    plt.ylabel('Count of People')\n",
    "    plt.yticks([0, 1000, 2000, 3000, 4000])\n",
    "    plt.xlabel('Year')\n",
    "    plt.title('Arrestee Race over years')"
   ]
  },
  {
   "cell_type": "markdown",
   "metadata": {},
   "source": [
    "# Type of Arrest"
   ]
  },
  {
   "cell_type": "code",
   "execution_count": 34,
   "metadata": {},
   "outputs": [
    {
     "data": {
      "image/png": "[encoded data removed]",
      "text/plain": [
       "<Figure size 1080x720 with 1 Axes>"
      ]
     },
     "metadata": {
      "needs_background": "light"
     },
     "output_type": "display_data"
    }
   ],
   "source": [
    "plt.figure(figsize = (15, 10))\n",
    "sns.countplot(x='arrest_type_description', data = data)\n",
    "plt.ylabel('No of Crimes')\n",
    "plt.xlabel('type')\n",
    "plt.show()"
   ]
  },
  {
   "cell_type": "markdown",
   "metadata": {},
   "source": [
    "# Distribution by Employment\n"
   ]
  },
  {
   "cell_type": "code",
   "execution_count": 35,
   "metadata": {},
   "outputs": [],
   "source": [
    "\n",
    "employment_count = {}\n",
    "for employment in employment_disc:\n",
    "    employment_count[employment] = employment_count.get(employment, 0) + 1\n",
    "\n",
    "employment_disc = []\n",
    "count_list = []\n",
    "for employment, count in employment_count.items():\n",
    "    employment_disc.append(employment)\n",
    "    count_list.append(count)"
   ]
  },
  {
   "cell_type": "code",
   "execution_count": 36,
   "metadata": {},
   "outputs": [
    {
     "data": {
      "text/plain": [
       "Text(0, 0.5, 'Employment Status')"
      ]
     },
     "execution_count": 36,
     "metadata": {},
     "output_type": "execute_result"
    },
    {
     "data": {
      "image/png": "[encoded data removed]",
      "text/plain": [
       "<Figure size 720x504 with 1 Axes>"
      ]
     },
     "metadata": {
      "needs_background": "light"
     },
     "output_type": "display_data"
    }
   ],
   "source": [
    "plt.figure(figsize = (10,7))\n",
    "plt.plot(employment_disc, count_list)\n",
    "plt.title(\"Arrested Counts per Employment Status\")\n",
    "plt.xlabel('Arrested Counts')\n",
    "plt.ylabel(\"Employment Status\")"
   ]
  },
  {
   "cell_type": "markdown",
   "metadata": {},
   "source": [
    "# Crime v/s Age distribution"
   ]
  },
  {
   "cell_type": "code",
   "execution_count": 37,
   "metadata": {},
   "outputs": [],
   "source": [
    "for col in data.columns:\n",
    "    data[col] = data[col].astype(str)"
   ]
  },
  {
   "cell_type": "code",
   "execution_count": 38,
   "metadata": {},
   "outputs": [
    {
     "data": {
      "text/plain": [
       "0           CHAMPAIGN,IL,61820\n",
       "1             POTOMAC,IL,61865\n",
       "2                      ,,00000\n",
       "3           CHAMPAIGN,IL,61820\n",
       "4           CHAMPAIGN,IL,61820\n",
       "5              URBANA,IL,61801\n",
       "6               HOMER,IL,61849\n",
       "7          THOMASBORO,IL,61878\n",
       "8           CHAMPAIGN,IL,61820\n",
       "9           CHAMPAIGN,IL,61820\n",
       "10             URBANA,IL,00000\n",
       "11             URBANA,IL,61801\n",
       "12             SKOKIE,IL,60077\n",
       "13        NORTH HAVEN,CT,06473\n",
       "14             URBANA,IL,61801\n",
       "15         CARBONDALE,IL,62901\n",
       "16             URBANA,IL,61801\n",
       "17           DANVILLE,IL,61832\n",
       "18          CHAMPAIGN,IL,61820\n",
       "19          CHAMPAIGN,IL,61820\n",
       "20          CHAMPAIGN,IL,61820\n",
       "21          CHAMPAIGN,IL,61820\n",
       "22          CHAMPAIGN,IL,61820\n",
       "23             NEWMAN,IL,61942\n",
       "24             NEWMAN,IL,61942\n",
       "25          CHAMPAIGN,IL,61820\n",
       "26          CHAMPAIGN,IL,61820\n",
       "27         THOMASBORO,IL,61878\n",
       "28          CHAMPAIGN,IL,61820\n",
       "29             `RBANA,IL,61801\n",
       "                  ...         \n",
       "200641      CHAMPAIGN,IL,61821\n",
       "200642      CHAMPAIGN,IL,61821\n",
       "200643      CHAMPAIGN,IL,61822\n",
       "200644      ST JOSEPH,IL,61873\n",
       "200645                      ,,\n",
       "200646                      ,,\n",
       "200647                      ,,\n",
       "200648                      ,,\n",
       "200649                      ,,\n",
       "200650                      ,,\n",
       "200651                      ,,\n",
       "200652                      ,,\n",
       "200653         URBANA,IL,61802\n",
       "200654         URBANA,IL,61801\n",
       "200655         PEORIA,IL,61602\n",
       "200656                      ,,\n",
       "200657                      ,,\n",
       "200658                      ,,\n",
       "200659                      ,,\n",
       "200660                      ,,\n",
       "200661                      ,,\n",
       "200662                      ,,\n",
       "200663                      ,,\n",
       "200664        ROSELLE,IL,60172\n",
       "200665        CHICAGO,IL,00000\n",
       "200666                      ,,\n",
       "200667                      ,,\n",
       "200668                      ,,\n",
       "200669         URBANA,IL,61801\n",
       "200670         URBANA,IL,61801\n",
       "Name: arrestee_home_city_mapped, Length: 200671, dtype: object"
      ]
     },
     "execution_count": 38,
     "metadata": {},
     "output_type": "execute_result"
    }
   ],
   "source": [
    "data[col]"
   ]
  },
  {
   "cell_type": "code",
   "execution_count": 39,
   "metadata": {},
   "outputs": [],
   "source": [
    "int_age_data = data[\"age_at_arrest\"].apply(lambda x: int(x[:-2]))\n",
    "cleaned_age = data[int_age_data > 0][\"age_at_arrest\"].apply(lambda x: int(x[:-2]))"
   ]
  },
  {
   "cell_type": "code",
   "execution_count": 40,
   "metadata": {},
   "outputs": [],
   "source": [
    "from collections import OrderedDict\n",
    "\n",
    "age_count_map = {}\n",
    "for age in cleaned_age:\n",
    "    if age not in age_count_map:\n",
    "        age_count_map[age] = 1\n",
    "    else:\n",
    "        age_count_map[age] += 1"
   ]
  },
  {
   "cell_type": "code",
   "execution_count": 41,
   "metadata": {},
   "outputs": [],
   "source": [
    "ordered_dict = OrderedDict(sorted(age_count_map.items(), key = lambda x: x[0]))\n",
    "age_list = []\n",
    "count_list = []\n",
    "for age, count in ordered_dict.items():\n",
    "    if age < 150:\n",
    "        age_list.append(age)\n",
    "        count_list.append(count)"
   ]
  },
  {
   "cell_type": "code",
   "execution_count": 42,
   "metadata": {},
   "outputs": [],
   "source": [
    "def on_selection_change(change):\n",
    "    min_val, max_val = change['new']\n",
    "    selected = (cleaned_age < max_val) & (cleaned_age > min_val)\n",
    "    total_counts = 0\n",
    "    for age, count in ordered_dict.items():\n",
    "        if min_val < age and age < max_val:\n",
    "            total_counts += count\n",
    "    label.value = \"Total Counts: %s\" % total_counts"
   ]
  },
  {
   "cell_type": "code",
   "execution_count": 43,
   "metadata": {},
   "outputs": [],
   "source": [
    "x_sc = bqplot.LinearScale()\n",
    "y_sc = bqplot.LinearScale()\n",
    "\n",
    "x_ax = bqplot.Axis(scale = x_sc, label = 'Age')\n",
    "y_ax = bqplot.Axis(scale = y_sc, label = 'Count', orientation = 'vertical')\n",
    "\n",
    "scatters = bqplot.Scatter(x = age_list,\n",
    "                          y = count_list,\n",
    "                          scales = {'x': x_sc, 'y': y_sc})\n",
    "\n",
    "selector = bqplot.interacts.FastIntervalSelector(\n",
    "            scale = x_sc, marks = [scatters])"
   ]
  },
  {
   "cell_type": "code",
   "execution_count": 44,
   "metadata": {},
   "outputs": [],
   "source": [
    "import bqplot"
   ]
  },
  {
   "cell_type": "code",
   "execution_count": 45,
   "metadata": {
    "scrolled": true
   },
   "outputs": [
    {
     "data": {
      "application/vnd.jupyter.widget-view+json": {
       "model_id": "89573383d64b452d92dc221a29190c34",
       "version_major": 2,
       "version_minor": 0
      },
      "text/plain": [
       "Figure(axes=[Axis(label='Age', scale=LinearScale(), side='bottom'), Axis(label='Count', orientation='vertical'…"
      ]
     },
     "metadata": {},
     "output_type": "display_data"
    }
   ],
   "source": [
    "selector = bqplot.interacts.FastIntervalSelector(\n",
    "            scale = x_sc, marks = [scatters])\n",
    "fig = bqplot.Figure(marks = [scatters], axes = [x_ax, y_ax], interaction = selector)\n",
    "display(fig)"
   ]
  },
  {
   "cell_type": "code",
   "execution_count": 46,
   "metadata": {},
   "outputs": [
    {
     "data": {
      "application/vnd.jupyter.widget-view+json": {
       "model_id": "221d9765934949cca8b7b1450c6cd8df",
       "version_major": 2,
       "version_minor": 0
      },
      "text/plain": [
       "Label(value='Total counts for range of Age: ')"
      ]
     },
     "metadata": {},
     "output_type": "display_data"
    }
   ],
   "source": [
    "selector.observe(on_selection_change, ['selected'])\n",
    "label = ipywidgets.Label(\"Total counts for range of Age: \")\n",
    "display(label)"
   ]
  },
  {
   "cell_type": "code",
   "execution_count": 47,
   "metadata": {},
   "outputs": [
    {
     "data": {
      "text/plain": [
       "200464"
      ]
     },
     "execution_count": 47,
     "metadata": {},
     "output_type": "execute_result"
    }
   ],
   "source": [
    "cleaned_age.value_counts().sum()"
   ]
  }
 ],
 "metadata": {
  "kernelspec": {
   "display_name": "Environment (conda_is590dv-default)",
   "language": "python",
   "name": "conda_is590dv-default"
  },
  "language_info": {
   "codemirror_mode": {
    "name": "ipython",
    "version": 3
   },
   "file_extension": ".py",
   "mimetype": "text/x-python",
   "name": "python",
   "nbconvert_exporter": "python",
   "pygments_lexer": "ipython3",
   "version": "3.6.6"
  },
  "widgets": {
   "application/vnd.jupyter.widget-state+json": {
    "state": {
     "10a4ff2cda6948c8a8969be751713a0b": {
      "model_module": "@jupyter-widgets/base",
      "model_module_version": "1.1.0",
      "model_name": "LayoutModel",
      "state": {
       "min_width": "125px"
      }
     },
     "1556a380eb64474ba108976c368f051e": {
      "model_module": "@jupyter-widgets/controls",
      "model_module_version": "1.4.0",
      "model_name": "VBoxModel",
      "state": {
       "_dom_classes": [
        "widget-interact"
       ],
       "children": [
        "IPY_MODEL_dec489db6916402a99e20bf85df121f3",
        "IPY_MODEL_275a507b8e2444c9974b38ef86a7838b"
       ],
       "layout": "IPY_MODEL_71454c52b42043fabd7f36f94c16ff0d"
      }
     },
     "1e896bf7a6144205a6c19b61d4eaf808": {
      "model_module": "bqplot",
      "model_module_version": "^0.4.1",
      "model_name": "FastIntervalSelectorModel",
      "state": {
       "_model_module_version": "^0.4.1",
       "_view_module_version": "^0.4.1",
       "marks": [
        "IPY_MODEL_5e4449aaecd649e28a6507712c3058c6"
       ],
       "scale": "IPY_MODEL_b3a5243e793746b3ba74c5b9bee98b26",
       "selected": {
        "type": null,
        "values": null
       }
      }
     },
     "1ef7816c5f9f4d258652129a4e9a326d": {
      "model_module": "@jupyter-widgets/base",
      "model_module_version": "1.1.0",
      "model_name": "LayoutModel",
      "state": {}
     },
     "221d9765934949cca8b7b1450c6cd8df": {
      "model_module": "@jupyter-widgets/controls",
      "model_module_version": "1.4.0",
      "model_name": "LabelModel",
      "state": {
       "layout": "IPY_MODEL_b0a57b91d8114536b25398f78b38b305",
       "style": "IPY_MODEL_c116781f942d4cb4992dcc99193ff5ed",
       "value": "Total counts for range of Age: "
      }
     },
     "26d32602f34c42b6a6d5cd2c3a6fbac4": {
      "model_module": "bqplot",
      "model_module_version": "^0.4.1",
      "model_name": "FastIntervalSelectorModel",
      "state": {
       "_model_module_version": "^0.4.1",
       "_view_module_version": "^0.4.1",
       "marks": [
        "IPY_MODEL_5e4449aaecd649e28a6507712c3058c6"
       ],
       "scale": "IPY_MODEL_b3a5243e793746b3ba74c5b9bee98b26",
       "selected": {
        "type": "object",
        "values": {}
       }
      }
     },
     "275a507b8e2444c9974b38ef86a7838b": {
      "model_module": "@jupyter-widgets/output",
      "model_module_version": "1.0.0",
      "model_name": "OutputModel",
      "state": {
       "layout": "IPY_MODEL_f58256d3830e49f9860e3768c0e3acef",
       "outputs": [
        {
         "data": {
          "image/png": "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\n",
          "text/plain": "<Figure size 432x288 with 1 Axes>"
         },
         "metadata": {
          "needs_background": "light"
         },
         "output_type": "display_data"
        }
       ]
      }
     },
     "2de7f4ac3b0f48a3b0d9861fa07308c1": {
      "model_module": "@jupyter-widgets/controls",
      "model_module_version": "1.4.0",
      "model_name": "DescriptionStyleModel",
      "state": {
       "description_width": ""
      }
     },
     "3606d537a7c44d35be8681a9bb99bb1a": {
      "model_module": "bqplot",
      "model_module_version": "^0.4.1",
      "model_name": "FastIntervalSelectorModel",
      "state": {
       "_model_module_version": "^0.4.1",
       "_view_module_version": "^0.4.1",
       "marks": [
        "IPY_MODEL_c57f7ac6321a4c4396730a305f3aac7b"
       ],
       "scale": "IPY_MODEL_be0f2e1154b746a9ab4274b5491fab8c",
       "selected": {
        "type": null,
        "values": null
       }
      }
     },
     "3d1ffde38ac94f6c8df80274397c357f": {
      "model_module": "bqplot",
      "model_module_version": "^0.4.1",
      "model_name": "AxisModel",
      "state": {
       "_model_module_version": "^0.4.1",
       "_view_module_version": "^0.4.1",
       "label": "Age",
       "scale": "IPY_MODEL_bfe180eb28c349d4b42952a5bde9e153",
       "side": "bottom",
       "tick_values": {
        "type": null,
        "values": null
       }
      }
     },
     "3e572dc3a2ee479f8989fc0b0cd71ddc": {
      "model_module": "bqplot",
      "model_module_version": "^0.4.1",
      "model_name": "LinearScaleModel",
      "state": {
       "_model_module_version": "^0.4.1",
       "_view_module_version": "^0.4.1",
       "stabilized": false
      }
     },
     "4441a4b532fa48aa9b82143800c1e019": {
      "model_module": "@jupyter-widgets/controls",
      "model_module_version": "1.4.0",
      "model_name": "DescriptionStyleModel",
      "state": {
       "description_width": ""
      }
     },
     "47c875e29b5b44af9dea1cfe7f60dffd": {
      "model_module": "@jupyter-widgets/base",
      "model_module_version": "1.1.0",
      "model_name": "LayoutModel",
      "state": {}
     },
     "493ca4861a984e19bcbbe38654c81b07": {
      "model_module": "bqplot",
      "model_module_version": "^0.4.1",
      "model_name": "LinearScaleModel",
      "state": {
       "_model_module_version": "^0.4.1",
       "_view_module_version": "^0.4.1",
       "allow_padding": false,
       "max": 1,
       "min": 0,
       "stabilized": false
      }
     },
     "4c3dd791b96b44bfbc91556803228c08": {
      "model_module": "@jupyter-widgets/controls",
      "model_module_version": "1.4.0",
      "model_name": "DropdownModel",
      "state": {
       "_options_labels": [
        "ALL",
        "WHITE",
        "BLACK",
        "ASIAN",
        "HISPANIC",
        "AMERICAN INDIAN/ALASKAN",
        "UNKNOWN"
       ],
       "description": "selector",
       "index": 0,
       "layout": "IPY_MODEL_1ef7816c5f9f4d258652129a4e9a326d",
       "style": "IPY_MODEL_8a3ad3744fa747b2aa0ee2b501118e61"
      }
     },
     "4cfa801216914c15ad9e5e30007c57c5": {
      "model_module": "bqplot",
      "model_module_version": "^0.4.1",
      "model_name": "FastIntervalSelectorModel",
      "state": {
       "_model_module_version": "^0.4.1",
       "_view_module_version": "^0.4.1",
       "marks": [
        "IPY_MODEL_c57f7ac6321a4c4396730a305f3aac7b"
       ],
       "scale": "IPY_MODEL_be0f2e1154b746a9ab4274b5491fab8c",
       "selected": {
        "type": null,
        "values": {}
       }
      }
     },
     "53f61413012447bab5a220756f970d0a": {
      "model_module": "bqplot",
      "model_module_version": "^0.4.1",
      "model_name": "LinearScaleModel",
      "state": {
       "_model_module_version": "^0.4.1",
       "_view_module_version": "^0.4.1",
       "allow_padding": false,
       "max": 1,
       "min": 0,
       "stabilized": false
      }
     },
     "55661588cf18490d9706fadf4007c43a": {
      "model_module": "bqplot",
      "model_module_version": "^0.4.1",
      "model_name": "AxisModel",
      "state": {
       "_model_module_version": "^0.4.1",
       "_view_module_version": "^0.4.1",
       "label": "Count",
       "orientation": "vertical",
       "scale": "IPY_MODEL_7b2156fc58be4d7ebc99bd700fbfab8d",
       "side": "left",
       "tick_values": {
        "type": null,
        "values": null
       }
      }
     },
     "556c32e699cb41ab99f77b5906905107": {
      "model_module": "@jupyter-widgets/base",
      "model_module_version": "1.1.0",
      "model_name": "LayoutModel",
      "state": {}
     },
     "55981874b9684c198a2a056450d70e3d": {
      "model_module": "bqplot",
      "model_module_version": "^0.4.1",
      "model_name": "LinearScaleModel",
      "state": {
       "_model_module_version": "^0.4.1",
       "_view_module_version": "^0.4.1",
       "allow_padding": false,
       "max": 1,
       "min": 0,
       "stabilized": false
      }
     },
     "5e4449aaecd649e28a6507712c3058c6": {
      "model_module": "bqplot",
      "model_module_version": "^0.4.1",
      "model_name": "ScatterModel",
      "state": {
       "_model_module_version": "^0.4.1",
       "_view_module_version": "^0.4.1",
       "color": {
        "type": null,
        "values": null
       },
       "colors": [
        "steelblue"
       ],
       "display_legend": false,
       "names": {
        "type": null,
        "values": null
       },
       "opacity": {
        "type": null,
        "values": null
       },
       "rotation": {
        "type": null,
        "values": null
       },
       "scales": {
        "x": "IPY_MODEL_b3a5243e793746b3ba74c5b9bee98b26",
        "y": "IPY_MODEL_7b2156fc58be4d7ebc99bd700fbfab8d"
       },
       "scales_metadata": {
        "color": {
         "dimension": "color"
        },
        "opacity": {
         "dimension": "opacity"
        },
        "rotation": {
         "dimension": "rotation"
        },
        "size": {
         "dimension": "size"
        },
        "skew": {
         "dimension": "skew"
        },
        "x": {
         "dimension": "x",
         "orientation": "horizontal"
        },
        "y": {
         "dimension": "y",
         "orientation": "vertical"
        }
       },
       "selected": [],
       "size": {
        "type": null,
        "values": null
       },
       "skew": {
        "type": null,
        "values": null
       },
       "x": {
        "type": "float",
        "values": []
       },
       "y": {
        "type": "float",
        "values": []
       }
      }
     },
     "65f7e163d9624893a92730b6f3f7e02f": {
      "model_module": "@jupyter-widgets/controls",
      "model_module_version": "1.4.0",
      "model_name": "VBoxModel",
      "state": {
       "_dom_classes": [
        "widget-interact"
       ],
       "children": [
        "IPY_MODEL_4c3dd791b96b44bfbc91556803228c08",
        "IPY_MODEL_a0edae3f7c7d4ee5b29ee2ac12e77199"
       ],
       "layout": "IPY_MODEL_e7972ead2ed6447ea32261f57b8434d7"
      }
     },
     "6f39669f28d44d319eec7ad0e8a776a1": {
      "model_module": "bqplot",
      "model_module_version": "^0.4.1",
      "model_name": "LinearScaleModel",
      "state": {
       "_model_module_version": "^0.4.1",
       "_view_module_version": "^0.4.1",
       "stabilized": false
      }
     },
     "71454c52b42043fabd7f36f94c16ff0d": {
      "model_module": "@jupyter-widgets/base",
      "model_module_version": "1.1.0",
      "model_name": "LayoutModel",
      "state": {}
     },
     "7193e63843bf43d299b9c0d1eda408ec": {
      "model_module": "bqplot",
      "model_module_version": "^0.4.1",
      "model_name": "ScatterModel",
      "state": {
       "_model_module_version": "^0.4.1",
       "_view_module_version": "^0.4.1",
       "color": {
        "type": null,
        "values": null
       },
       "colors": [
        "steelblue"
       ],
       "display_legend": false,
       "names": {
        "type": null,
        "values": null
       },
       "opacity": {
        "type": null,
        "values": null
       },
       "rotation": {
        "type": null,
        "values": null
       },
       "scales": {
        "x": "IPY_MODEL_bfe180eb28c349d4b42952a5bde9e153",
        "y": "IPY_MODEL_a4a8b8362cee4260ab2bb2b4add790ea"
       },
       "scales_metadata": {
        "color": {
         "dimension": "color"
        },
        "opacity": {
         "dimension": "opacity"
        },
        "rotation": {
         "dimension": "rotation"
        },
        "size": {
         "dimension": "size"
        },
        "skew": {
         "dimension": "skew"
        },
        "x": {
         "dimension": "x",
         "orientation": "horizontal"
        },
        "y": {
         "dimension": "y",
         "orientation": "vertical"
        }
       },
       "size": {
        "type": null,
        "values": null
       },
       "skew": {
        "type": null,
        "values": null
       },
       "x": {
        "type": "float",
        "values": [
         1,
         3,
         5,
         6,
         7,
         8,
         9,
         10,
         11,
         12,
         13,
         14,
         15,
         16,
         17,
         18,
         19,
         20,
         21,
         22,
         23,
         24,
         25,
         26,
         27,
         28,
         29,
         30,
         31,
         32,
         33,
         34,
         35,
         36,
         37,
         38,
         39,
         40,
         41,
         42,
         43,
         44,
         45,
         46,
         47,
         48,
         49,
         50,
         51,
         52,
         53,
         54,
         55,
         56,
         57,
         58,
         59,
         60,
         61,
         62,
         63,
         64,
         65,
         66,
         67,
         68,
         69,
         70,
         71,
         72,
         73,
         74,
         75,
         76,
         77,
         78,
         79,
         80,
         81,
         82,
         83,
         84,
         85,
         86,
         87,
         88,
         89,
         90,
         91,
         92,
         93,
         94,
         95,
         96
        ]
       },
       "y": {
        "type": "float",
        "values": [
         4,
         4,
         1,
         1,
         10,
         32,
         67,
         173,
         456,
         823,
         1371,
         2092,
         2791,
         4946,
         6186,
         9370,
         11655,
         12835,
         12069,
         10563,
         9068,
         8280,
         7306,
         6786,
         6344,
         5995,
         5411,
         5121,
         4759,
         4233,
         4056,
         3873,
         3695,
         3580,
         3311,
         3131,
         2818,
         2687,
         2554,
         2486,
         2244,
         1992,
         2092,
         1835,
         1706,
         1525,
         1368,
         1393,
         1359,
         1189,
         1159,
         1013,
         1004,
         906,
         825,
         725,
         660,
         631,
         585,
         501,
         438,
         392,
         388,
         374,
         288,
         244,
         245,
         218,
         195,
         187,
         202,
         170,
         170,
         165,
         129,
         131,
         124,
         119,
         106,
         94,
         88,
         83,
         57,
         49,
         39,
         28,
         23,
         19,
         10,
         11,
         7,
         4,
         1,
         4
        ]
       }
      }
     },
     "7294032c0d1e4b9a99b1a48907be9b1c": {
      "model_module": "@jupyter-widgets/base",
      "model_module_version": "1.1.0",
      "model_name": "LayoutModel",
      "state": {
       "min_width": "125px"
      }
     },
     "7b2156fc58be4d7ebc99bd700fbfab8d": {
      "model_module": "bqplot",
      "model_module_version": "^0.4.1",
      "model_name": "LinearScaleModel",
      "state": {
       "_model_module_version": "^0.4.1",
       "_view_module_version": "^0.4.1",
       "stabilized": false
      }
     },
     "82f125bfaf774e229c37ac319cdc57c9": {
      "model_module": "bqplot",
      "model_module_version": "^0.4.1",
      "model_name": "AxisModel",
      "state": {
       "_model_module_version": "^0.4.1",
       "_view_module_version": "^0.4.1",
       "label": "Age",
       "scale": "IPY_MODEL_be0f2e1154b746a9ab4274b5491fab8c",
       "side": "bottom",
       "tick_values": {
        "type": null,
        "values": null
       }
      }
     },
     "89573383d64b452d92dc221a29190c34": {
      "model_module": "bqplot",
      "model_module_version": "^0.4.1",
      "model_name": "FigureModel",
      "state": {
       "_dom_classes": [],
       "_model_module_version": "^0.4.1",
       "_view_module_version": "^0.4.1",
       "axes": [
        "IPY_MODEL_82f125bfaf774e229c37ac319cdc57c9",
        "IPY_MODEL_df1cea82d56b45eda0303ed1505abb36"
       ],
       "interaction": "IPY_MODEL_4cfa801216914c15ad9e5e30007c57c5",
       "layout": "IPY_MODEL_7294032c0d1e4b9a99b1a48907be9b1c",
       "marks": [
        "IPY_MODEL_c57f7ac6321a4c4396730a305f3aac7b"
       ],
       "scale_x": "IPY_MODEL_55981874b9684c198a2a056450d70e3d",
       "scale_y": "IPY_MODEL_53f61413012447bab5a220756f970d0a"
      }
     },
     "8a3ad3744fa747b2aa0ee2b501118e61": {
      "model_module": "@jupyter-widgets/controls",
      "model_module_version": "1.4.0",
      "model_name": "DescriptionStyleModel",
      "state": {
       "description_width": ""
      }
     },
     "8a5fe02faf0a48f4b35b0bc8e1b9d65f": {
      "model_module": "bqplot",
      "model_module_version": "^0.4.1",
      "model_name": "AxisModel",
      "state": {
       "_model_module_version": "^0.4.1",
       "_view_module_version": "^0.4.1",
       "label": "Count",
       "orientation": "vertical",
       "scale": "IPY_MODEL_a4a8b8362cee4260ab2bb2b4add790ea",
       "side": "left",
       "tick_values": {
        "type": null,
        "values": null
       }
      }
     },
     "8c901e518186435f815496c58fceadb0": {
      "model_module": "bqplot",
      "model_module_version": "^0.4.1",
      "model_name": "LinearScaleModel",
      "state": {
       "_model_module_version": "^0.4.1",
       "_view_module_version": "^0.4.1",
       "stabilized": false
      }
     },
     "8d0ac6d801814c418ffbb57bfe379b2f": {
      "model_module": "@jupyter-widgets/base",
      "model_module_version": "1.1.0",
      "model_name": "LayoutModel",
      "state": {}
     },
     "9149589d6468438abd835cd649577d49": {
      "model_module": "bqplot",
      "model_module_version": "^0.4.1",
      "model_name": "AxisModel",
      "state": {
       "_model_module_version": "^0.4.1",
       "_view_module_version": "^0.4.1",
       "label": "Age",
       "scale": "IPY_MODEL_b3a5243e793746b3ba74c5b9bee98b26",
       "side": "bottom",
       "tick_values": {
        "type": null,
        "values": null
       }
      }
     },
     "9fae21f3830c4c94a3b3de46dd8e61ae": {
      "model_module": "@jupyter-widgets/controls",
      "model_module_version": "1.4.0",
      "model_name": "LabelModel",
      "state": {
       "layout": "IPY_MODEL_47c875e29b5b44af9dea1cfe7f60dffd",
       "style": "IPY_MODEL_d1d2f2bea838436999b1af1a2a99e529",
       "value": "Total counts for range of Age: "
      }
     },
     "a0edae3f7c7d4ee5b29ee2ac12e77199": {
      "model_module": "@jupyter-widgets/output",
      "model_module_version": "1.0.0",
      "model_name": "OutputModel",
      "state": {
       "layout": "IPY_MODEL_8d0ac6d801814c418ffbb57bfe379b2f",
       "outputs": [
        {
         "data": {
          "image/png": "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\n",
          "text/plain": "<Figure size 432x288 with 1 Axes>"
         },
         "metadata": {
          "needs_background": "light"
         },
         "output_type": "display_data"
        }
       ]
      }
     },
     "a4a8b8362cee4260ab2bb2b4add790ea": {
      "model_module": "bqplot",
      "model_module_version": "^0.4.1",
      "model_name": "LinearScaleModel",
      "state": {
       "_model_module_version": "^0.4.1",
       "_view_module_version": "^0.4.1",
       "stabilized": false
      }
     },
     "a986505a064c44d98c92e6030f7fe723": {
      "model_module": "bqplot",
      "model_module_version": "^0.4.1",
      "model_name": "LinearScaleModel",
      "state": {
       "_model_module_version": "^0.4.1",
       "_view_module_version": "^0.4.1",
       "allow_padding": false,
       "max": 1,
       "min": 0,
       "stabilized": false
      }
     },
     "b0a57b91d8114536b25398f78b38b305": {
      "model_module": "@jupyter-widgets/base",
      "model_module_version": "1.1.0",
      "model_name": "LayoutModel",
      "state": {}
     },
     "b3a5243e793746b3ba74c5b9bee98b26": {
      "model_module": "bqplot",
      "model_module_version": "^0.4.1",
      "model_name": "LinearScaleModel",
      "state": {
       "_model_module_version": "^0.4.1",
       "_view_module_version": "^0.4.1",
       "stabilized": false
      }
     },
     "bb40084111834fa8b4f5de4a1ce07fb8": {
      "model_module": "bqplot",
      "model_module_version": "^0.4.1",
      "model_name": "AxisModel",
      "state": {
       "_model_module_version": "^0.4.1",
       "_view_module_version": "^0.4.1",
       "label": "Age",
       "scale": "IPY_MODEL_8c901e518186435f815496c58fceadb0",
       "side": "bottom",
       "tick_values": {
        "type": null,
        "values": null
       }
      }
     },
     "be0f2e1154b746a9ab4274b5491fab8c": {
      "model_module": "bqplot",
      "model_module_version": "^0.4.1",
      "model_name": "LinearScaleModel",
      "state": {
       "_model_module_version": "^0.4.1",
       "_view_module_version": "^0.4.1",
       "stabilized": false
      }
     },
     "bfe180eb28c349d4b42952a5bde9e153": {
      "model_module": "bqplot",
      "model_module_version": "^0.4.1",
      "model_name": "LinearScaleModel",
      "state": {
       "_model_module_version": "^0.4.1",
       "_view_module_version": "^0.4.1",
       "stabilized": false
      }
     },
     "c116781f942d4cb4992dcc99193ff5ed": {
      "model_module": "@jupyter-widgets/controls",
      "model_module_version": "1.4.0",
      "model_name": "DescriptionStyleModel",
      "state": {
       "description_width": ""
      }
     },
     "c39f064bea9a4ce1b033e650a66e34b9": {
      "model_module": "@jupyter-widgets/controls",
      "model_module_version": "1.4.0",
      "model_name": "LabelModel",
      "state": {
       "layout": "IPY_MODEL_556c32e699cb41ab99f77b5906905107",
       "style": "IPY_MODEL_4441a4b532fa48aa9b82143800c1e019",
       "value": "Total counts for range of Age: "
      }
     },
     "c57f7ac6321a4c4396730a305f3aac7b": {
      "model_module": "bqplot",
      "model_module_version": "^0.4.1",
      "model_name": "ScatterModel",
      "state": {
       "_model_module_version": "^0.4.1",
       "_view_module_version": "^0.4.1",
       "color": {
        "type": null,
        "values": null
       },
       "colors": [
        "steelblue"
       ],
       "display_legend": false,
       "names": {
        "type": null,
        "values": null
       },
       "opacity": {
        "type": null,
        "values": null
       },
       "rotation": {
        "type": null,
        "values": null
       },
       "scales": {
        "x": "IPY_MODEL_be0f2e1154b746a9ab4274b5491fab8c",
        "y": "IPY_MODEL_3e572dc3a2ee479f8989fc0b0cd71ddc"
       },
       "scales_metadata": {
        "color": {
         "dimension": "color"
        },
        "opacity": {
         "dimension": "opacity"
        },
        "rotation": {
         "dimension": "rotation"
        },
        "size": {
         "dimension": "size"
        },
        "skew": {
         "dimension": "skew"
        },
        "x": {
         "dimension": "x",
         "orientation": "horizontal"
        },
        "y": {
         "dimension": "y",
         "orientation": "vertical"
        }
       },
       "size": {
        "type": null,
        "values": null
       },
       "skew": {
        "type": null,
        "values": null
       },
       "x": {
        "type": "float",
        "values": [
         1,
         3,
         5,
         6,
         7,
         8,
         9,
         10,
         11,
         12,
         13,
         14,
         15,
         16,
         17,
         18,
         19,
         20,
         21,
         22,
         23,
         24,
         25,
         26,
         27,
         28,
         29,
         30,
         31,
         32,
         33,
         34,
         35,
         36,
         37,
         38,
         39,
         40,
         41,
         42,
         43,
         44,
         45,
         46,
         47,
         48,
         49,
         50,
         51,
         52,
         53,
         54,
         55,
         56,
         57,
         58,
         59,
         60,
         61,
         62,
         63,
         64,
         65,
         66,
         67,
         68,
         69,
         70,
         71,
         72,
         73,
         74,
         75,
         76,
         77,
         78,
         79,
         80,
         81,
         82,
         83,
         84,
         85,
         86,
         87,
         88,
         89,
         90,
         91,
         92,
         93,
         94,
         95,
         96
        ]
       },
       "y": {
        "type": "float",
        "values": [
         4,
         4,
         1,
         1,
         10,
         32,
         67,
         173,
         456,
         823,
         1371,
         2092,
         2791,
         4946,
         6186,
         9370,
         11655,
         12835,
         12069,
         10563,
         9068,
         8280,
         7306,
         6786,
         6344,
         5995,
         5411,
         5121,
         4759,
         4233,
         4056,
         3873,
         3695,
         3580,
         3311,
         3131,
         2818,
         2687,
         2554,
         2486,
         2244,
         1992,
         2092,
         1835,
         1706,
         1525,
         1368,
         1393,
         1359,
         1189,
         1159,
         1013,
         1004,
         906,
         825,
         725,
         660,
         631,
         585,
         501,
         438,
         392,
         388,
         374,
         288,
         244,
         245,
         218,
         195,
         187,
         202,
         170,
         170,
         165,
         129,
         131,
         124,
         119,
         106,
         94,
         88,
         83,
         57,
         49,
         39,
         28,
         23,
         19,
         10,
         11,
         7,
         4,
         1,
         4
        ]
       }
      }
     },
     "cb415bb548f74a76a54bf7eeee1495c8": {
      "model_module": "bqplot",
      "model_module_version": "^0.4.1",
      "model_name": "FastIntervalSelectorModel",
      "state": {
       "_model_module_version": "^0.4.1",
       "_view_module_version": "^0.4.1",
       "marks": [
        "IPY_MODEL_7193e63843bf43d299b9c0d1eda408ec"
       ],
       "scale": "IPY_MODEL_bfe180eb28c349d4b42952a5bde9e153",
       "selected": {
        "type": null,
        "values": {}
       }
      }
     },
     "cdb776c2e90e4f349753757bc0889b5c": {
      "model_module": "bqplot",
      "model_module_version": "^0.4.1",
      "model_name": "FastIntervalSelectorModel",
      "state": {
       "_model_module_version": "^0.4.1",
       "_view_module_version": "^0.4.1",
       "marks": [
        "IPY_MODEL_7193e63843bf43d299b9c0d1eda408ec"
       ],
       "scale": "IPY_MODEL_bfe180eb28c349d4b42952a5bde9e153",
       "selected": {
        "type": null,
        "values": null
       }
      }
     },
     "d0a70b1bcf54403380e0aa6f9c31df09": {
      "model_module": "@jupyter-widgets/base",
      "model_module_version": "1.1.0",
      "model_name": "LayoutModel",
      "state": {}
     },
     "d1d2f2bea838436999b1af1a2a99e529": {
      "model_module": "@jupyter-widgets/controls",
      "model_module_version": "1.4.0",
      "model_name": "DescriptionStyleModel",
      "state": {
       "description_width": ""
      }
     },
     "dbf27f2cfa5848ec9c7d96bae061c9ce": {
      "model_module": "bqplot",
      "model_module_version": "^0.4.1",
      "model_name": "FigureModel",
      "state": {
       "_dom_classes": [],
       "_model_module_version": "^0.4.1",
       "_view_module_version": "^0.4.1",
       "axes": [
        "IPY_MODEL_9149589d6468438abd835cd649577d49",
        "IPY_MODEL_55661588cf18490d9706fadf4007c43a"
       ],
       "interaction": "IPY_MODEL_26d32602f34c42b6a6d5cd2c3a6fbac4",
       "layout": "IPY_MODEL_10a4ff2cda6948c8a8969be751713a0b",
       "marks": [
        "IPY_MODEL_5e4449aaecd649e28a6507712c3058c6"
       ],
       "scale_x": "IPY_MODEL_a986505a064c44d98c92e6030f7fe723",
       "scale_y": "IPY_MODEL_493ca4861a984e19bcbbe38654c81b07"
      }
     },
     "dec489db6916402a99e20bf85df121f3": {
      "model_module": "@jupyter-widgets/controls",
      "model_module_version": "1.4.0",
      "model_name": "DropdownModel",
      "state": {
       "_options_labels": [
        "ALL",
        "WHITE",
        "BLACK",
        "ASIAN",
        "HISPANIC",
        "AMERICAN INDIAN/ALASKAN",
        "UNKNOWN"
       ],
       "description": "selector",
       "index": 2,
       "layout": "IPY_MODEL_d0a70b1bcf54403380e0aa6f9c31df09",
       "style": "IPY_MODEL_2de7f4ac3b0f48a3b0d9861fa07308c1"
      }
     },
     "df1cea82d56b45eda0303ed1505abb36": {
      "model_module": "bqplot",
      "model_module_version": "^0.4.1",
      "model_name": "AxisModel",
      "state": {
       "_model_module_version": "^0.4.1",
       "_view_module_version": "^0.4.1",
       "label": "Count",
       "orientation": "vertical",
       "scale": "IPY_MODEL_3e572dc3a2ee479f8989fc0b0cd71ddc",
       "side": "left",
       "tick_values": {
        "type": null,
        "values": null
       }
      }
     },
     "e7972ead2ed6447ea32261f57b8434d7": {
      "model_module": "@jupyter-widgets/base",
      "model_module_version": "1.1.0",
      "model_name": "LayoutModel",
      "state": {}
     },
     "ee0f1dffcf0044a2b07dce51248b74fe": {
      "model_module": "bqplot",
      "model_module_version": "^0.4.1",
      "model_name": "LinearScaleModel",
      "state": {
       "_model_module_version": "^0.4.1",
       "_view_module_version": "^0.4.1",
       "allow_padding": false,
       "max": 1,
       "min": 0,
       "stabilized": false
      }
     },
     "f237e59154924ea39b5946a9e4e3f29e": {
      "model_module": "@jupyter-widgets/base",
      "model_module_version": "1.1.0",
      "model_name": "LayoutModel",
      "state": {
       "min_width": "125px"
      }
     },
     "f58256d3830e49f9860e3768c0e3acef": {
      "model_module": "@jupyter-widgets/base",
      "model_module_version": "1.1.0",
      "model_name": "LayoutModel",
      "state": {}
     },
     "f63bfd913a0b42cdbf7855f6f37baf52": {
      "model_module": "bqplot",
      "model_module_version": "^0.4.1",
      "model_name": "LinearScaleModel",
      "state": {
       "_model_module_version": "^0.4.1",
       "_view_module_version": "^0.4.1",
       "allow_padding": false,
       "max": 1,
       "min": 0,
       "stabilized": false
      }
     },
     "f891f80c37844953ad7d54e86a381fbc": {
      "model_module": "bqplot",
      "model_module_version": "^0.4.1",
      "model_name": "AxisModel",
      "state": {
       "_model_module_version": "^0.4.1",
       "_view_module_version": "^0.4.1",
       "label": "Count",
       "orientation": "vertical",
       "scale": "IPY_MODEL_6f39669f28d44d319eec7ad0e8a776a1",
       "side": "left",
       "tick_values": {
        "type": null,
        "values": null
       }
      }
     },
     "ffa870a291ea4ae5871d8cee9f0c30d2": {
      "model_module": "bqplot",
      "model_module_version": "^0.4.1",
      "model_name": "FigureModel",
      "state": {
       "_dom_classes": [],
       "_model_module_version": "^0.4.1",
       "_view_module_version": "^0.4.1",
       "axes": [
        "IPY_MODEL_3d1ffde38ac94f6c8df80274397c357f",
        "IPY_MODEL_8a5fe02faf0a48f4b35b0bc8e1b9d65f"
       ],
       "interaction": "IPY_MODEL_cb415bb548f74a76a54bf7eeee1495c8",
       "layout": "IPY_MODEL_f237e59154924ea39b5946a9e4e3f29e",
       "marks": [
        "IPY_MODEL_7193e63843bf43d299b9c0d1eda408ec"
       ],
       "scale_x": "IPY_MODEL_ee0f1dffcf0044a2b07dce51248b74fe",
       "scale_y": "IPY_MODEL_f63bfd913a0b42cdbf7855f6f37baf52"
      }
     }
    },
    "version_major": 2,
    "version_minor": 0
   }
  }
 },
 "nbformat": 4,
 "nbformat_minor": 2
}
